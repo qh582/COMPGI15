{
 "cells": [
  {
   "cell_type": "code",
   "execution_count": 1,
   "metadata": {},
   "outputs": [],
   "source": [
    "# Import Libraries\n",
    "import os\n",
    "import numpy as np\n",
    "import pipeline as pl\n",
    "import tensorflow as tf\n",
    "import pandas as pd\n",
    "from sklearn.metrics import mean_squared_error\n",
    "import matplotlib.pyplot as plt\n",
    "import seaborn as sn"
   ]
  },
  {
   "cell_type": "raw",
   "metadata": {},
   "source": [
    "# Data\n",
    "desc = pd.read_csv('data/product_descriptions.csv')\n",
    "train = pd.read_csv('data/train.csv',encoding=\"ISO-8859-1\")\n",
    "dev = pd.read_csv('data/dev_without_ignored.csv')\n",
    "train_desc = pd.merge(train,desc,on='product_uid')\n",
    "dev_desc = pd.merge(dev,desc,on='product_uid')\n",
    "train_desc.to_csv('temp/train_product_desc.csv',index=False)\n",
    "dev_desc.to_csv('temp/dev_product_desc.csv',index=False)"
   ]
  },
  {
   "cell_type": "code",
   "execution_count": 2,
   "metadata": {
    "collapsed": true
   },
   "outputs": [],
   "source": [
    "train_desc = pd.read_csv('temp/withoneattr_train.csv')"
   ]
  },
  {
   "cell_type": "code",
   "execution_count": 3,
   "metadata": {},
   "outputs": [
    {
     "data": {
      "text/plain": [
       "id                                                               2\n",
       "product_uid                                                 100001\n",
       "product_title                    Simpson Strong-Tie 12-Gauge Angle\n",
       "search_term                                          angle bracket\n",
       "relevance                                                        3\n",
       "name                                                      Bullet01\n",
       "value            Versatile connector for various 90° connection...\n",
       "Name: 0, dtype: object"
      ]
     },
     "execution_count": 3,
     "metadata": {},
     "output_type": "execute_result"
    }
   ],
   "source": [
    "train_desc.loc[0]"
   ]
  },
  {
   "cell_type": "markdown",
   "metadata": {},
   "source": [
    "## Preprocessing Data"
   ]
  },
  {
   "cell_type": "code",
   "execution_count": 4,
   "metadata": {
    "collapsed": true
   },
   "outputs": [],
   "source": [
    "def corpus(filename='temp/train_product_desc.csv'):\n",
    "    import csv\n",
    "    reader = csv.reader(open(filename))\n",
    "    data = []\n",
    "    for row in reader:\n",
    "        i_d,product_uid,product_title,search_term,relevance, product_description= row\n",
    "        dic = {'search_term':search_term, 'product_title': product_title,'relevance': relevance,\\\n",
    "               'desc':product_description}\n",
    "        data.append(dic)\n",
    "    del data[0]\n",
    "    return data\n",
    "\n",
    "def tokenise(input):\n",
    "    return input.split(' ')\n",
    "\n",
    "def pipeline(data,vocab=None, max_title_len_=None, max_query_len_=None,max_attr_len_=None):\n",
    "    \n",
    "    # Vocab\n",
    "    exist_vocab = True\n",
    "    if vocab is None:\n",
    "        exist_vocab = False\n",
    "        vocab = {'<PAD>': 0, '<OOV>':1}\n",
    "    \n",
    "    ## Placeholder ## \n",
    "    \n",
    "    # Product Title\n",
    "    max_title_len = -1\n",
    "    data_title = []\n",
    "    # Search Term\n",
    "    max_query_len = -1\n",
    "    data_query = []\n",
    "    # Attr Term\n",
    "    max_attr_len = -1\n",
    "    data_attr = []\n",
    "    \n",
    "    # Relevance\n",
    "    data_relevance = []\n",
    "    \n",
    "    ## Processing ## \n",
    "    for instance in data:\n",
    "        # Product Title Processing\n",
    "        title = instance['product_title']\n",
    "        t_tokenised = tokenise(title)\n",
    "        each_title = []\n",
    "        for token in t_tokenised:\n",
    "            if not exist_vocab and token not in vocab:\n",
    "                vocab[token] = len(vocab)\n",
    "            if token not in vocab:\n",
    "                token_id = vocab['<OOV>']\n",
    "            else:\n",
    "                token_id = vocab[token]\n",
    "            each_title.append(token_id)\n",
    "        # Product Title Length\n",
    "        if len(each_title) > max_title_len:\n",
    "            max_title_len = len(each_title)\n",
    "        data_title.append(each_title)\n",
    "            \n",
    "        # Search Term Processing\n",
    "        query = instance['search_term']\n",
    "        q_tokenised = tokenise(query)\n",
    "        each_query = []\n",
    "        for qtoken in q_tokenised:\n",
    "            if not exist_vocab and qtoken not in vocab:\n",
    "                vocab[qtoken] = len(vocab)\n",
    "            if qtoken not in vocab:\n",
    "                qtoken_id = vocab['<OOV>']\n",
    "            else:\n",
    "                qtoken_id = vocab[qtoken]\n",
    "            each_query.append(qtoken_id) \n",
    "        # Search Terms Length\n",
    "        if len(each_query) > max_query_len:\n",
    "            max_query_len = len(each_query)\n",
    "        data_query.append(each_query)\n",
    "        \n",
    "\n",
    "        # Attr Processing\n",
    "        attr = instance['desc']\n",
    "        a_tokenised = tokenise(attr)\n",
    "        each_attr = []\n",
    "        for atoken in a_tokenised:\n",
    "            if not exist_vocab and atoken not in vocab:\n",
    "                vocab[atoken] = len(vocab)\n",
    "            if atoken not in vocab:\n",
    "                atoken_id = vocab['<OOV>']\n",
    "            else:\n",
    "                atoken_id = vocab[atoken]\n",
    "            each_attr.append(atoken_id) \n",
    "        # Search Terms Length\n",
    "        if len(each_attr) > max_attr_len:\n",
    "            max_attr_len = len(each_attr)\n",
    "        data_attr.append(each_attr)\n",
    "            \n",
    "        # Relevance \n",
    "        data_relevance.append(instance['relevance'])\n",
    "\n",
    "    if max_title_len_ is not None:\n",
    "        max_title_len = max_title_len_\n",
    "    out_title = np.full([len(data_title), max_title_len], vocab['<PAD>'], dtype=np.int32)\n",
    "    \n",
    "    for index, item in enumerate(data_title):\n",
    "        if len(item) <= out_title.shape[1]:\n",
    "            out_title[index, 0:len(item)] = item\n",
    "    \n",
    "    if max_query_len_ is not None:\n",
    "        max_query_len = max_query_len_\n",
    "    out_query = np.full([len(data_query), max_query_len], vocab['<PAD>'], dtype=np.int32)\n",
    "    \n",
    "    for index, q in enumerate(data_query):\n",
    "        out_query[index, 0:len(q)] = q\n",
    "        \n",
    "    if max_attr_len_ is not None:\n",
    "        max_attr_len = max_attr_len_\n",
    "    out_attr = np.full([len(data_attr), max_attr_len], vocab['<PAD>'], dtype=np.int32)\n",
    "    \n",
    "    for index, item in enumerate(data_attr):\n",
    "        if len(item) <= out_title.shape[1]:\n",
    "            out_attr[index, 0:len(item)] = item\n",
    "        \n",
    "    out_relevance = np.array(data_relevance, dtype=np.float64)\n",
    "    \n",
    "    return out_title, out_query, out_relevance, out_attr , vocab"
   ]
  },
  {
   "cell_type": "code",
   "execution_count": 5,
   "metadata": {
    "collapsed": true
   },
   "outputs": [],
   "source": [
    "# Loading the corpus\n",
    "\n",
    "train = corpus()\n",
    "test = corpus(filename='temp/dev_product_desc.csv')"
   ]
  },
  {
   "cell_type": "code",
   "execution_count": 6,
   "metadata": {
    "collapsed": true
   },
   "outputs": [],
   "source": [
    "# convert train set to integer IDs\n",
    "train_title, train_query, train_relevance,train_attr, vocab = pipeline(train)"
   ]
  },
  {
   "cell_type": "code",
   "execution_count": 7,
   "metadata": {
    "collapsed": true
   },
   "outputs": [],
   "source": [
    "# get the length of the longest title\n",
    "max_title_len = train_title.shape[1]\n",
    "\n",
    "# get the length of the longest query\n",
    "max_query_len = train_query.shape[1]\n",
    "\n",
    "# get the length of the longest query\n",
    "max_attr_len = train_attr.shape[1]\n",
    "\n",
    "# convert dev set to integer IDs, based on the train's information\n",
    "dev_title, dev_query, dev_relevance,dev_attr,_ = pipeline(test,vocab=vocab,max_query_len_= max_query_len, \\\n",
    "                                                                max_title_len_ = max_title_len\\\n",
    "                                                               ,max_attr_len_ = max_attr_len)"
   ]
  },
  {
   "cell_type": "markdown",
   "metadata": {},
   "source": [
    "## Model"
   ]
  },
  {
   "cell_type": "code",
   "execution_count": 8,
   "metadata": {
    "collapsed": true
   },
   "outputs": [],
   "source": [
    "### MODEL PARAMETERS ###\n",
    "target_size = 1\n",
    "vocab_size = len(vocab)\n",
    "#qvocab_size = len(qvocab)\n",
    "#avocab_size = len(avocab)\n",
    "input_size = 20\n",
    "hidden_size = 30\n",
    "output_size = 1\n",
    "num_of_layers = 3\n",
    "prob_keep = 0.5"
   ]
  },
  {
   "cell_type": "code",
   "execution_count": 9,
   "metadata": {
    "collapsed": true,
    "scrolled": true
   },
   "outputs": [],
   "source": [
    "# PLACEHOLDERS\n",
    "\n",
    "title = tf.placeholder(tf.int64, [None, None], \"title\")        # [batch_size x max_title_length]\n",
    "query = tf.placeholder(tf.int64, [None, None], \"query\")        # [batch_size x max_query_length]\n",
    "attr = tf.placeholder(tf.int64, [None, None], \"attr\")       # [batch_size x max_attr_length]\n",
    "relevance = tf.placeholder(tf.int64, [None], \"relevance\")      # [batch_size]\n",
    "\n",
    "batch_size = tf.shape(title)[0] + tf.shape(query)[0] + tf.shape(attr)[0]\n",
    "\n",
    "# WORD EMBEDDINGS\n",
    "\n",
    "initializer = tf.random_uniform_initializer(-0.1, 0.1)\n",
    "embeddings = tf.get_variable(\"E1\", [vocab_size, input_size], initializer=initializer)\n",
    "title_embedded = tf.nn.embedding_lookup(embeddings, title)     # [batch_size x max_title_length x input_size]\n",
    "query_embedded = tf.nn.embedding_lookup(embeddings, query)     # [batch_size x max_query_length x input_size]\n",
    "attr_embedded = tf.nn.embedding_lookup(embeddings, attr)       # [batch_size x max_attr_length x input_size]\n",
    "\n",
    "# MODEL CONSTRUCTION\n",
    "\n",
    "with tf.variable_scope(\"query\") as varscope:\n",
    "    cell_ = tf.contrib.rnn.LSTMCell(hidden_size,state_is_tuple=True)\n",
    "    cell = tf.contrib.rnn.DropoutWrapper(cell=cell_, output_keep_prob=prob_keep)\n",
    "    mcell = tf.contrib.rnn.MultiRNNCell([cell]*num_of_layers, state_is_tuple=True)\n",
    "    output, final_state_q = tf.nn.dynamic_rnn(mcell, query_embedded, dtype=tf.float32)\n",
    "\n",
    "with tf.variable_scope(\"title\") as varscope:\n",
    "    cell_t = tf.contrib.rnn.LSTMCell(hidden_size,state_is_tuple=True)\n",
    "    cellt = tf.contrib.rnn.DropoutWrapper(cell=cell_t, output_keep_prob=prob_keep)\n",
    "    mcellt = tf.contrib.rnn.MultiRNNCell([cellt]*num_of_layers, state_is_tuple=True)\n",
    "    output, final_state_t = tf.nn.dynamic_rnn(mcellt, query_embedded,initial_state = final_state_q, dtype=tf.float32)\n",
    "\n",
    "with tf.variable_scope(\"attr\") as varscope:\n",
    "    cell_a = tf.contrib.rnn.LSTMCell(hidden_size,state_is_tuple=True)\n",
    "    cella = tf.contrib.rnn.DropoutWrapper(cell=cell_a, output_keep_prob=prob_keep)\n",
    "    mcella = tf.contrib.rnn.MultiRNNCell([cella]*num_of_layers, state_is_tuple=True)\n",
    "    output, final_state_a = tf.nn.dynamic_rnn(mcella, query_embedded,initial_state = final_state_t, dtype=tf.float32)\n",
    "    joint_h = final_state_a[num_of_layers - 1].h\n",
    "    \n",
    "# LOSS FUNCTION & EVALU\n",
    "\n",
    "predict = tf.unstack(tf.contrib.layers.linear(joint_h, target_size),axis=1)\n",
    "relevance = tf.cast(relevance, tf.float32)\n",
    "loss = tf.sqrt(tf.reduce_mean(tf.square(tf.subtract(predict,relevance))))\n",
    "#loss = tf.losses.mean_squared_error(predictions = predict, labels = relevance)\n",
    "\n",
    "# OPTIMIZER\n",
    "#opt_op = tf.train.AdamOptimizer().minimize(loss)\n",
    "\n",
    "\n",
    "# Gradient Clipping \n",
    "optimizer = tf.train.AdamOptimizer() #tf.train.FtrlOptimizer(0.5)\n",
    "gvs = optimizer.compute_gradients(loss)\n",
    "capped_gvs = [(tf.clip_by_value(grad, -1., 1.), var) for grad, var in gvs]\n",
    "opt_op = optimizer.apply_gradients(capped_gvs)\n"
   ]
  },
  {
   "cell_type": "code",
   "execution_count": 10,
   "metadata": {
    "collapsed": true
   },
   "outputs": [],
   "source": [
    "def save_model(session):\n",
    "    if not os.path.exists('./model/'):\n",
    "        os.mkdir('./model/')\n",
    "    saver = tf.train.Saver()\n",
    "    saver.save(session, './model/model.checkpoint')"
   ]
  },
  {
   "cell_type": "code",
   "execution_count": 12,
   "metadata": {},
   "outputs": [
    {
     "name": "stdout",
     "output_type": "stream",
     "text": [
      "----- Epoch 0 -----\n",
      " Train loss:  0.000541425197751\n",
      "model training time: 2.195 minutes\n",
      "\n",
      " Train RMSE:  0.543476084744\n",
      " Dev RMSE:  0.544305494346\n",
      "predicting time: 1.118 minutes\n",
      "\n",
      "----- Epoch 1 -----\n",
      " Train loss:  0.000224906981819\n",
      "model training time: 2.359 minutes\n",
      "\n",
      " Train RMSE:  0.540119363343\n",
      " Dev RMSE:  0.541608259759\n",
      "predicting time: 1.116 minutes\n",
      "\n",
      "----- Epoch 2 -----\n",
      " Train loss:  0.000217535337321\n",
      "model training time: 1.962 minutes\n",
      "\n",
      " Train RMSE:  0.538230011454\n",
      " Dev RMSE:  0.539281072765\n",
      "predicting time: 1.08 minutes\n",
      "\n",
      "----- Epoch 3 -----\n",
      " Train loss:  0.000215914327898\n",
      "model training time: 2.039 minutes\n",
      "\n",
      " Train RMSE:  0.537255458677\n",
      " Dev RMSE:  0.538639711901\n",
      "predicting time: 1.078 minutes\n",
      "\n",
      "----- Epoch 4 -----\n",
      " Train loss:  0.000215303153152\n",
      "model training time: 2.077 minutes\n",
      "\n",
      " Train RMSE:  0.536684983628\n",
      " Dev RMSE:  0.53779425903\n",
      "predicting time: 1.043 minutes\n",
      "\n"
     ]
    }
   ],
   "source": [
    "# TRAINING\n",
    "import time \n",
    "\n",
    "BATCH_SIZE = 2500\n",
    "EPOCH = 5\n",
    "\n",
    "train_loss_list = []\n",
    "train_rmse_list = []\n",
    "train_pred_list = []\n",
    "dev_rmse_list = []\n",
    "dev_pred_list = []\n",
    "\n",
    "with tf.Session() as sess:\n",
    "    sess.run(tf.global_variables_initializer())\n",
    "    n = train_title.shape[0]\n",
    "    \n",
    "    # index to draw random batch of train data\n",
    "    idx = np.arange(n)\n",
    "\n",
    "    for epoch in range(EPOCH):\n",
    "        t = time.time()\n",
    "        print('----- Epoch', epoch, '-----')\n",
    "        total_loss = 0\n",
    "        for i in range(n // BATCH_SIZE):\n",
    "            inst_title = train_title[idx[i * BATCH_SIZE: (i + 1) * BATCH_SIZE]]\n",
    "            inst_query = train_query[idx[i * BATCH_SIZE: (i + 1) * BATCH_SIZE]]\n",
    "            inst_attr = train_attr[idx[i * BATCH_SIZE: (i + 1) * BATCH_SIZE]]\n",
    "            inst_relevance = train_relevance[idx[i * BATCH_SIZE: (i + 1) * BATCH_SIZE]]\n",
    "            feed_dict = {title: inst_title, relevance: inst_relevance, query: inst_query,attr: inst_attr}\n",
    "            _, current_loss = sess.run([opt_op, loss], feed_dict=feed_dict)\n",
    "            total_loss += current_loss\n",
    "        train_loss_list.append(total_loss/n)\n",
    "        print(' Train loss: ', total_loss / n)\n",
    "        print('model training time:',round((time.time()-t)/60,3) ,'minutes\\n')\n",
    "\n",
    "        train_feed_dict = {title: train_title, relevance: train_relevance, query: train_query,attr: train_attr}\n",
    "        train_predicted = sess.run(predict, feed_dict=train_feed_dict)\n",
    "        train_pred_list.append(train_predicted)\n",
    "        train_accuracy = mean_squared_error(train_relevance, train_predicted[0])**0.5\n",
    "        train_rmse_list.append(train_accuracy)\n",
    "        print(' Train RMSE: ', train_accuracy)\n",
    "        \n",
    "        t = time.time()      \n",
    "        dev_feed_dict = {title: dev_title, relevance: dev_relevance, query:dev_query,attr:dev_attr}\n",
    "        dev_predicted = sess.run(predict, feed_dict=dev_feed_dict)\n",
    "        dev_pred_list.append(dev_predicted)\n",
    "        dev_accuracy = mean_squared_error(dev_relevance, dev_predicted[0])**0.5\n",
    "        dev_rmse_list.append(dev_accuracy)\n",
    "        print(' Dev RMSE: ', dev_accuracy)\n",
    "        print('predicting time:',round((time.time()-t)/60,3) ,'minutes\\n')"
   ]
  },
  {
   "cell_type": "markdown",
   "metadata": {},
   "source": [
    "# Evaluation and Result Plots"
   ]
  },
  {
   "cell_type": "code",
   "execution_count": null,
   "metadata": {
    "collapsed": true
   },
   "outputs": [],
   "source": [
    "fig, ax = plt.subplots()\n",
    "ax.plot(range(EPOCH), train_loss_list,label='Training Loss')\n",
    "plt.xlabel('Epoch')\n",
    "plt.ylabel('Loss')\n",
    "plt.legend(loc = 1)\n",
    "plt.ylim(0.00020,0.00025)\n",
    "plt.show()\n",
    "#fig.savefig('reports/fig/loss_'+str(EPOCH)+'_EPOCH.png')"
   ]
  },
  {
   "cell_type": "code",
   "execution_count": null,
   "metadata": {
    "collapsed": true
   },
   "outputs": [],
   "source": [
    "import matplotlib.pyplot as plt\n",
    "import seaborn as sn\n",
    "\n",
    "fig, ax = plt.subplots()\n",
    "ax.plot(range(EPOCH), train_rmse_list,label='Training Data')\n",
    "ax.plot(range(EPOCH), dev_rmse_list,label='Dev Data')\n",
    "plt.xlabel('Epoch')\n",
    "plt.ylabel('RMSE')\n",
    "plt.legend(loc = 1)\n",
    "plt.show()\n",
    "#fig.savefig('reports/fig/rmse_'+str(EPOCH)+'_EPOCH.png')"
   ]
  },
  {
   "cell_type": "code",
   "execution_count": null,
   "metadata": {
    "collapsed": true,
    "scrolled": true
   },
   "outputs": [],
   "source": [
    "print('EPOCH',np.argmin(dev_rmse_list),'has the lowest RMSE in the Dev Data')"
   ]
  },
  {
   "cell_type": "code",
   "execution_count": 15,
   "metadata": {
    "scrolled": true
   },
   "outputs": [
    {
     "data": {
      "image/png": "[encoded data removed]",
      "text/plain": [
       "<matplotlib.figure.Figure at 0x158e4f828>"
      ]
     },
     "metadata": {},
     "output_type": "display_data"
    }
   ],
   "source": [
    "fig, ax = plt.subplots(1,1,figsize = (18,6))\n",
    "ax = plt.subplot(1,2,1)\n",
    "ax.hist(train_pred_list[np.argmin(dev_rmse_list)],bins = 10,label='Model Prediction')\n",
    "ax1 = plt.subplot(1,2,2)\n",
    "ax1.hist(list(dev_relevance),bins = 10,label='True Prediction')\n",
    "ax.set_ylabel('Number of Observations')\n",
    "ax1.set_ylabel('Number of Observations')\n",
    "ax.set_xlabel('Predicted Relevance Score')\n",
    "ax1.set_xlabel('True Relevance Score')\n",
    "plt.show()\n",
    "#fig.savefig('reports/fig/nnpredicted_true_relevance')"
   ]
  }
 ],
 "metadata": {
  "anaconda-cloud": {},
  "kernelspec": {
   "display_name": "Python 3",
   "language": "python",
   "name": "python3"
  },
  "language_info": {
   "codemirror_mode": {
    "name": "ipython",
    "version": 3
   },
   "file_extension": ".py",
   "mimetype": "text/x-python",
   "name": "python",
   "nbconvert_exporter": "python",
   "pygments_lexer": "ipython3",
   "version": "3.5.3"
  }
 },
 "nbformat": 4,
 "nbformat_minor": 1
}
