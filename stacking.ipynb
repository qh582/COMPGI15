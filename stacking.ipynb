{
 "cells": [
  {
   "cell_type": "code",
   "execution_count": 1,
   "metadata": {
    "collapsed": false
   },
   "outputs": [
    {
     "name": "stderr",
     "output_type": "stream",
     "text": [
      "C:\\Users\\xt\\Anaconda3\\lib\\site-packages\\sklearn\\cross_validation.py:44: DeprecationWarning: This module was deprecated in version 0.18 in favor of the model_selection module into which all the refactored classes and functions are moved. Also note that the interface of the new CV iterators are different from that of this module. This module will be removed in 0.20.\n",
      "  \"This module will be removed in 0.20.\", DeprecationWarning)\n",
      "C:\\Users\\xt\\Anaconda3\\lib\\site-packages\\sklearn\\grid_search.py:43: DeprecationWarning: This module was deprecated in version 0.18 in favor of the model_selection module into which all the refactored classes and functions are moved. This module will be removed in 0.20.\n",
      "  DeprecationWarning)\n"
     ]
    }
   ],
   "source": [
    "import time\n",
    "import numpy as np\n",
    "import pandas as pd\n",
    "from sklearn.cross_validation import KFold\n",
    "from sklearn.ensemble import RandomForestRegressor, ExtraTreesRegressor, GradientBoostingRegressor\n",
    "from sklearn import grid_search\n",
    "from sklearn.metrics import mean_squared_error, make_scorer\n",
    "from xgboost import XGBRegressor"
   ]
  },
  {
   "cell_type": "code",
   "execution_count": 2,
   "metadata": {
    "collapsed": true
   },
   "outputs": [],
   "source": [
    "def mean_squared_error_(ground_truth, predictions):\n",
    "    return mean_squared_error(ground_truth, predictions) ** 0.5\n",
    "\n",
    "RMSE = make_scorer(mean_squared_error_, greater_is_better=False)"
   ]
  },
  {
   "cell_type": "code",
   "execution_count": 7,
   "metadata": {
    "collapsed": true
   },
   "outputs": [],
   "source": [
    "class Ensemble(object):\n",
    "    def __init__(self, n_folds, stacker, base_models):\n",
    "        self.n_folds = n_folds\n",
    "        self.stacker = stacker\n",
    "        self.base_models = base_models\n",
    "\n",
    "    def fit_predict(self, X, y, T):\n",
    "        X = np.array(X)\n",
    "        y = np.array(y)\n",
    "        T = np.array(T)\n",
    "\n",
    "        folds = list(KFold(len(y), n_folds=self.n_folds, shuffle=True, random_state=2016))\n",
    "\n",
    "        S_train = np.zeros((X.shape[0], len(self.base_models)))\n",
    "        S_test = np.zeros((T.shape[0], len(self.base_models)))\n",
    "\n",
    "        for i, clf in enumerate(self.base_models):\n",
    "\n",
    "            print('Fitting For Base Model #{0} / {1} ---'.format(i+1, len(self.base_models)))\n",
    "\n",
    "            S_test_i = np.zeros((T.shape[0], len(folds)))\n",
    "\n",
    "            for j, (train_idx, test_idx) in enumerate(folds):\n",
    "\n",
    "                print('--- Fitting For Fold #{0} / {1} ---'.format(j+1, self.n_folds))\n",
    "\n",
    "                X_train = X[train_idx]\n",
    "                y_train = y[train_idx]\n",
    "                X_holdout = X[test_idx]\n",
    "                # y_holdout = y[test_idx]\n",
    "                clf.fit(X_train, y_train)\n",
    "                y_pred = clf.predict(X_holdout)[:]\n",
    "                S_train[test_idx, i] = y_pred\n",
    "                S_test_i[:, j] = clf.predict(T)[:]\n",
    "\n",
    "                print('Elapsed: %s minutes ---' % round(((time.time() - start_time) / 60), 2))\n",
    "\n",
    "            S_test[:, i] = S_test_i.mean(1)\n",
    "\n",
    "            print('Elapsed: %s minutes ---' % round(((time.time() - start_time) / 60), 2))\n",
    "\n",
    "        print('--- Base Models Trained: %s minutes ---' % round(((time.time() - start_time) / 60), 2))\n",
    "        \n",
    "        \n",
    "        param_grid = {\n",
    "            'n_estimators': [50,60,70,80,90,100,110,120],\n",
    "            'learning_rate': [0.05],\n",
    "            'subsample': [0.75]\n",
    "        }\n",
    "        grid = grid_search.GridSearchCV(estimator=self.stacker, param_grid=param_grid, n_jobs=1, cv=5, verbose=20, scoring=RMSE)\n",
    "        grid.fit(S_train, y)\n",
    "\n",
    "        try:\n",
    "            print('Param grid:')\n",
    "            print(param_grid)\n",
    "            print('Best Params:')\n",
    "            print(grid.best_params_)\n",
    "            print('Best CV Score:')\n",
    "            print(-grid.best_score_)\n",
    "            print('Best estimator:')\n",
    "            print(grid.best_estimator_)\n",
    "            print(message)\n",
    "        except:\n",
    "            pass\n",
    "\n",
    "        print('--- Stacker Trained: %s minutes ---' % round(((time.time() - start_time) / 60), 2))\n",
    "\n",
    "        y_pred = grid.predict(S_test)[:]\n",
    "\n",
    "        return y_pred"
   ]
  },
  {
   "cell_type": "code",
   "execution_count": 8,
   "metadata": {
    "collapsed": false
   },
   "outputs": [
    {
     "name": "stderr",
     "output_type": "stream",
     "text": [
      "C:\\Users\\xt\\Anaconda3\\lib\\site-packages\\ipykernel\\__main__.py:14: SettingWithCopyWarning: \n",
      "A value is trying to be set on a copy of a slice from a DataFrame\n",
      "\n",
      "See the caveats in the documentation: http://pandas.pydata.org/pandas-docs/stable/indexing.html#indexing-view-versus-copy\n",
      "C:\\Users\\xt\\Anaconda3\\lib\\site-packages\\ipykernel\\__main__.py:15: SettingWithCopyWarning: \n",
      "A value is trying to be set on a copy of a slice from a DataFrame\n",
      "\n",
      "See the caveats in the documentation: http://pandas.pydata.org/pandas-docs/stable/indexing.html#indexing-view-versus-copy\n"
     ]
    },
    {
     "name": "stdout",
     "output_type": "stream",
     "text": [
      "Number of Features:  126\n"
     ]
    }
   ],
   "source": [
    "df_all = pd.read_csv('df_all.csv', encoding='ISO-8859-1', index_col=0)\n",
    "num_train = 74067\n",
    "df_train = df_all.iloc[:num_train]\n",
    "#df_train = df_train.iloc[:round(len(df_train)/20)]\n",
    "df_test = df_all.iloc[num_train:]\n",
    "#df_test = df_test.iloc[:round(len(df_test)/20)]\n",
    "\n",
    "id_test = df_test['id']\n",
    "y_train = df_train['relevance'].values\n",
    "\n",
    "cols_to_drop = ['id', 'relevance']\n",
    "for col in cols_to_drop:\n",
    "    try:\n",
    "        df_train.drop(col, axis=1, inplace=True)\n",
    "        df_test.drop(col, axis=1, inplace=True)\n",
    "    except:\n",
    "        continue\n",
    "\n",
    "X_train = df_train[:]\n",
    "X_test = df_test[:]\n",
    "\n",
    "print('Number of Features: ', len(X_train.columns.tolist()))"
   ]
  },
  {
   "cell_type": "code",
   "execution_count": 9,
   "metadata": {
    "collapsed": false
   },
   "outputs": [],
   "source": [
    "base_models = [\n",
    "    RandomForestRegressor(\n",
    "        n_jobs=1, random_state=2016, verbose=1,\n",
    "        n_estimators=500, max_features=12\n",
    "    ),\n",
    "    ExtraTreesRegressor(\n",
    "        n_jobs=1, random_state=2016, verbose=1,\n",
    "        n_estimators=500, max_features=12\n",
    "    ),\n",
    "    GradientBoostingRegressor(\n",
    "        random_state=2016, verbose=1,\n",
    "        n_estimators=500, max_features=12, max_depth=8,\n",
    "        learning_rate=0.05, subsample=0.8\n",
    "    ),\n",
    "    XGBRegressor(\n",
    "        seed=2016,\n",
    "        n_estimators=200, max_depth=8,\n",
    "        learning_rate=0.05, subsample=0.8, colsample_bytree=0.85\n",
    "    )\n",
    "]\n",
    "ensemble = Ensemble(\n",
    "    n_folds=5,\n",
    "    stacker=GradientBoostingRegressor(\n",
    "        random_state=2017, verbose=1\n",
    "    ),\n",
    "    base_models=base_models\n",
    ")\n"
   ]
  },
  {
   "cell_type": "code",
   "execution_count": 10,
   "metadata": {
    "collapsed": false
   },
   "outputs": [
    {
     "name": "stdout",
     "output_type": "stream",
     "text": [
      "Fitting For Base Model #1 / 4 ---\n",
      "--- Fitting For Fold #1 / 5 ---\n"
     ]
    },
    {
     "name": "stderr",
     "output_type": "stream",
     "text": [
      "[Parallel(n_jobs=1)]: Done 500 out of 500 | elapsed: 22.5min finished\n",
      "[Parallel(n_jobs=1)]: Done 500 out of 500 | elapsed:    8.3s finished\n",
      "[Parallel(n_jobs=1)]: Done 500 out of 500 | elapsed:  1.8min finished\n"
     ]
    },
    {
     "name": "stdout",
     "output_type": "stream",
     "text": [
      "Elapsed: 24.46 minutes ---\n",
      "--- Fitting For Fold #2 / 5 ---\n"
     ]
    },
    {
     "name": "stderr",
     "output_type": "stream",
     "text": [
      "[Parallel(n_jobs=1)]: Done 500 out of 500 | elapsed: 23.8min finished\n",
      "[Parallel(n_jobs=1)]: Done 500 out of 500 | elapsed:    9.1s finished\n",
      "[Parallel(n_jobs=1)]: Done 500 out of 500 | elapsed:  2.0min finished\n"
     ]
    },
    {
     "name": "stdout",
     "output_type": "stream",
     "text": [
      "Elapsed: 50.42 minutes ---\n",
      "--- Fitting For Fold #3 / 5 ---\n"
     ]
    },
    {
     "name": "stderr",
     "output_type": "stream",
     "text": [
      "[Parallel(n_jobs=1)]: Done 500 out of 500 | elapsed: 24.6min finished\n",
      "[Parallel(n_jobs=1)]: Done 500 out of 500 | elapsed:    8.3s finished\n",
      "[Parallel(n_jobs=1)]: Done 500 out of 500 | elapsed:  1.8min finished\n"
     ]
    },
    {
     "name": "stdout",
     "output_type": "stream",
     "text": [
      "Elapsed: 77.03 minutes ---\n",
      "--- Fitting For Fold #4 / 5 ---\n"
     ]
    },
    {
     "name": "stderr",
     "output_type": "stream",
     "text": [
      "[Parallel(n_jobs=1)]: Done 500 out of 500 | elapsed: 22.1min finished\n",
      "[Parallel(n_jobs=1)]: Done 500 out of 500 | elapsed:    8.6s finished\n",
      "[Parallel(n_jobs=1)]: Done 500 out of 500 | elapsed:  1.8min finished\n"
     ]
    },
    {
     "name": "stdout",
     "output_type": "stream",
     "text": [
      "Elapsed: 101.14 minutes ---\n",
      "--- Fitting For Fold #5 / 5 ---\n"
     ]
    },
    {
     "name": "stderr",
     "output_type": "stream",
     "text": [
      "[Parallel(n_jobs=1)]: Done 500 out of 500 | elapsed: 22.2min finished\n",
      "[Parallel(n_jobs=1)]: Done 500 out of 500 | elapsed:    8.3s finished\n",
      "[Parallel(n_jobs=1)]: Done 500 out of 500 | elapsed:  1.8min finished\n"
     ]
    },
    {
     "name": "stdout",
     "output_type": "stream",
     "text": [
      "Elapsed: 125.33 minutes ---\n",
      "Elapsed: 125.33 minutes ---\n",
      "Fitting For Base Model #2 / 4 ---\n",
      "--- Fitting For Fold #1 / 5 ---\n"
     ]
    },
    {
     "name": "stderr",
     "output_type": "stream",
     "text": [
      "[Parallel(n_jobs=1)]: Done 500 out of 500 | elapsed:  9.5min finished\n",
      "[Parallel(n_jobs=1)]: Done 500 out of 500 | elapsed:   10.8s finished\n",
      "[Parallel(n_jobs=1)]: Done 500 out of 500 | elapsed:  2.3min finished\n"
     ]
    },
    {
     "name": "stdout",
     "output_type": "stream",
     "text": [
      "Elapsed: 137.39 minutes ---\n",
      "--- Fitting For Fold #2 / 5 ---\n"
     ]
    },
    {
     "name": "stderr",
     "output_type": "stream",
     "text": [
      "[Parallel(n_jobs=1)]: Done 500 out of 500 | elapsed:  9.3min finished\n",
      "[Parallel(n_jobs=1)]: Done 500 out of 500 | elapsed:   11.0s finished\n",
      "[Parallel(n_jobs=1)]: Done 500 out of 500 | elapsed:  2.3min finished\n"
     ]
    },
    {
     "name": "stdout",
     "output_type": "stream",
     "text": [
      "Elapsed: 149.31 minutes ---\n",
      "--- Fitting For Fold #3 / 5 ---\n"
     ]
    },
    {
     "name": "stderr",
     "output_type": "stream",
     "text": [
      "[Parallel(n_jobs=1)]: Done 500 out of 500 | elapsed: 10.1min finished\n",
      "[Parallel(n_jobs=1)]: Done 500 out of 500 | elapsed:   11.0s finished\n",
      "[Parallel(n_jobs=1)]: Done 500 out of 500 | elapsed:  2.3min finished\n"
     ]
    },
    {
     "name": "stdout",
     "output_type": "stream",
     "text": [
      "Elapsed: 162.05 minutes ---\n",
      "--- Fitting For Fold #4 / 5 ---\n"
     ]
    },
    {
     "name": "stderr",
     "output_type": "stream",
     "text": [
      "[Parallel(n_jobs=1)]: Done 500 out of 500 | elapsed:  9.9min finished\n",
      "[Parallel(n_jobs=1)]: Done 500 out of 500 | elapsed:   10.9s finished\n",
      "[Parallel(n_jobs=1)]: Done 500 out of 500 | elapsed:  2.4min finished\n"
     ]
    },
    {
     "name": "stdout",
     "output_type": "stream",
     "text": [
      "Elapsed: 174.53 minutes ---\n",
      "--- Fitting For Fold #5 / 5 ---\n"
     ]
    },
    {
     "name": "stderr",
     "output_type": "stream",
     "text": [
      "[Parallel(n_jobs=1)]: Done 500 out of 500 | elapsed:  9.9min finished\n",
      "[Parallel(n_jobs=1)]: Done 500 out of 500 | elapsed:   11.1s finished\n",
      "[Parallel(n_jobs=1)]: Done 500 out of 500 | elapsed:  2.3min finished\n"
     ]
    },
    {
     "name": "stdout",
     "output_type": "stream",
     "text": [
      "Elapsed: 187.07 minutes ---\n",
      "Elapsed: 187.08 minutes ---\n",
      "Fitting For Base Model #3 / 4 ---\n",
      "--- Fitting For Fold #1 / 5 ---\n",
      "      Iter       Train Loss      OOB Improve   Remaining Time \n",
      "         1           0.2767           0.0064           14.97m\n",
      "         2           0.2723           0.0060           14.82m\n",
      "         3           0.2662           0.0054           15.02m\n",
      "         4           0.2599           0.0050           14.94m\n",
      "         5           0.2559           0.0044           14.98m\n",
      "         6           0.2497           0.0042           14.94m\n",
      "         7           0.2463           0.0038           14.95m\n",
      "         8           0.2416           0.0034           14.87m\n",
      "         9           0.2389           0.0029           14.77m\n",
      "        10           0.2351           0.0030           14.70m\n",
      "        20           0.2102           0.0012           14.00m\n",
      "        30           0.1956           0.0005           13.70m\n",
      "        40           0.1873           0.0004           13.27m\n",
      "        50           0.1807           0.0002           12.87m\n",
      "        60           0.1757           0.0001           12.45m\n",
      "        70           0.1716           0.0001           12.06m\n",
      "        80           0.1678          -0.0000           11.60m\n",
      "        90           0.1646           0.0000           11.23m\n",
      "       100           0.1616           0.0000           10.85m\n",
      "       200           0.1400           0.0000            7.57m\n",
      "       300           0.1218          -0.0000            4.95m\n",
      "       400           0.1071          -0.0000            2.45m\n",
      "       500           0.0940          -0.0000            0.00s\n",
      "Elapsed: 199.67 minutes ---\n",
      "--- Fitting For Fold #2 / 5 ---\n",
      "      Iter       Train Loss      OOB Improve   Remaining Time \n",
      "         1           0.2772           0.0062           15.21m\n",
      "         2           0.2711           0.0056           14.84m\n",
      "         3           0.2645           0.0048           14.61m\n",
      "         4           0.2586           0.0049           14.49m\n",
      "         5           0.2552           0.0042           14.46m\n",
      "         6           0.2499           0.0041           14.52m\n",
      "         7           0.2459           0.0037           14.96m\n",
      "         8           0.2409           0.0033           14.96m\n",
      "         9           0.2382           0.0031           14.88m\n",
      "        10           0.2340           0.0028           14.86m\n",
      "        20           0.2087           0.0012           14.25m\n",
      "        30           0.1959           0.0007           13.81m\n",
      "        40           0.1876           0.0003           13.40m\n",
      "        50           0.1807           0.0002           12.99m\n",
      "        60           0.1759           0.0001           12.57m\n",
      "        70           0.1709           0.0001           12.19m\n",
      "        80           0.1676           0.0001           11.78m\n",
      "        90           0.1640           0.0000           11.39m\n",
      "       100           0.1611           0.0000           11.00m\n",
      "       200           0.1388          -0.0000            7.76m\n",
      "       300           0.1206          -0.0000            5.03m\n",
      "       400           0.1066          -0.0000            2.48m\n",
      "       500           0.0942          -0.0000            0.00s\n",
      "Elapsed: 212.33 minutes ---\n",
      "--- Fitting For Fold #3 / 5 ---\n",
      "      Iter       Train Loss      OOB Improve   Remaining Time \n",
      "         1           0.2778           0.0066           14.66m\n",
      "         2           0.2713           0.0060           14.95m\n",
      "         3           0.2671           0.0050           14.83m\n",
      "         4           0.2617           0.0048           14.78m\n",
      "         5           0.2554           0.0043           14.73m\n",
      "         6           0.2525           0.0039           14.71m\n",
      "         7           0.2469           0.0038           14.55m\n",
      "         8           0.2428           0.0034           14.49m\n",
      "         9           0.2389           0.0031           14.44m\n",
      "        10           0.2351           0.0029           14.37m\n",
      "        20           0.2118           0.0013           14.01m\n",
      "        30           0.1966           0.0006           13.59m\n",
      "        40           0.1887           0.0004           13.22m\n",
      "        50           0.1821           0.0002           12.85m\n",
      "        60           0.1771           0.0001           12.44m\n",
      "        70           0.1716           0.0001           12.03m\n",
      "        80           0.1686           0.0001           11.59m\n",
      "        90           0.1654           0.0000           11.22m\n",
      "       100           0.1625           0.0001           10.84m\n",
      "       200           0.1397          -0.0000            7.68m\n",
      "       300           0.1227          -0.0000            4.99m\n",
      "       400           0.1091          -0.0000            2.46m\n",
      "       500           0.0960          -0.0000            0.00s\n",
      "Elapsed: 224.93 minutes ---\n",
      "--- Fitting For Fold #4 / 5 ---\n",
      "      Iter       Train Loss      OOB Improve   Remaining Time \n",
      "         1           0.2784           0.0065           14.10m\n",
      "         2           0.2710           0.0059           14.69m\n",
      "         3           0.2648           0.0054           14.68m\n",
      "         4           0.2587           0.0049           14.53m\n",
      "         5           0.2549           0.0043           14.29m\n",
      "         6           0.2504           0.0042           14.10m\n",
      "         7           0.2459           0.0037           14.10m\n",
      "         8           0.2419           0.0035           14.13m\n",
      "         9           0.2384           0.0034           14.15m\n",
      "        10           0.2365           0.0027           14.12m\n",
      "        20           0.2091           0.0013           13.80m\n",
      "        30           0.1964           0.0006           13.39m\n",
      "        40           0.1855           0.0003           12.97m\n",
      "        50           0.1802           0.0002           12.62m\n",
      "        60           0.1752           0.0001           12.23m\n",
      "        70           0.1718           0.0001           11.79m\n",
      "        80           0.1673           0.0000           11.38m\n",
      "        90           0.1640           0.0000           10.99m\n",
      "       100           0.1596           0.0000           10.64m\n",
      "       200           0.1386          -0.0000            7.50m\n",
      "       300           0.1207          -0.0000            4.88m\n",
      "       400           0.1065          -0.0000            2.42m\n",
      "       500           0.0942          -0.0000            0.00s\n",
      "Elapsed: 237.32 minutes ---\n",
      "--- Fitting For Fold #5 / 5 ---\n",
      "      Iter       Train Loss      OOB Improve   Remaining Time \n",
      "         1           0.2776           0.0064           15.05m\n",
      "         2           0.2718           0.0057           15.16m\n",
      "         3           0.2658           0.0053           14.98m\n",
      "         4           0.2614           0.0048           15.17m\n",
      "         5           0.2542           0.0044           15.29m\n",
      "         6           0.2511           0.0041           15.07m\n",
      "         7           0.2463           0.0037           14.97m\n",
      "         8           0.2409           0.0036           14.93m\n",
      "         9           0.2384           0.0033           14.86m\n",
      "        10           0.2347           0.0029           14.66m\n",
      "        20           0.2095           0.0012           14.11m\n",
      "        30           0.1956           0.0007           13.70m\n",
      "        40           0.1873           0.0004           13.28m\n",
      "        50           0.1809           0.0001           12.85m\n",
      "        60           0.1745           0.0001           12.46m\n",
      "        70           0.1709           0.0000           12.09m\n",
      "        80           0.1671           0.0000           11.68m\n",
      "        90           0.1644           0.0000           11.34m\n",
      "       100           0.1604           0.0000           10.94m\n",
      "       200           0.1380          -0.0000            7.71m\n",
      "       300           0.1195          -0.0000            5.03m\n",
      "       400           0.1061          -0.0000            2.48m\n",
      "       500           0.0933          -0.0000            0.00s\n",
      "Elapsed: 250.07 minutes ---\n",
      "Elapsed: 250.08 minutes ---\n",
      "Fitting For Base Model #4 / 4 ---\n",
      "--- Fitting For Fold #1 / 5 ---\n",
      "Elapsed: 250.94 minutes ---\n",
      "--- Fitting For Fold #2 / 5 ---\n",
      "Elapsed: 251.85 minutes ---\n",
      "--- Fitting For Fold #3 / 5 ---\n",
      "Elapsed: 252.77 minutes ---\n",
      "--- Fitting For Fold #4 / 5 ---\n",
      "Elapsed: 253.68 minutes ---\n",
      "--- Fitting For Fold #5 / 5 ---\n",
      "Elapsed: 254.63 minutes ---\n",
      "Elapsed: 254.63 minutes ---\n",
      "--- Base Models Trained: 254.63 minutes ---\n",
      "Fitting 5 folds for each of 8 candidates, totalling 40 fits\n",
      "[CV] learning_rate=0.05, n_estimators=50, subsample=0.75 .............\n",
      "      Iter       Train Loss      OOB Improve   Remaining Time \n",
      "         1           0.2748           0.0085            3.01s\n",
      "         2           0.2684           0.0077            2.92s\n",
      "         3           0.2617           0.0068            2.93s\n",
      "         4           0.2551           0.0062            2.84s\n",
      "         5           0.2491           0.0056            2.77s\n",
      "         6           0.2430           0.0051            2.86s\n",
      "         7           0.2384           0.0046            3.16s\n",
      "         8           0.2347           0.0042            3.32s\n",
      "         9           0.2316           0.0038            3.49s\n",
      "        10           0.2277           0.0034            3.62s\n",
      "        20           0.2072           0.0013            3.15s\n",
      "        30           0.1981           0.0005            2.20s\n",
      "        40           0.1949           0.0002            1.15s\n",
      "        50           0.1941           0.0000            0.00s\n",
      "[CV]  learning_rate=0.05, n_estimators=50, subsample=0.75, score=-0.447379 -   5.8s\n",
      "[CV] learning_rate=0.05, n_estimators=50, subsample=0.75 .............\n",
      "      Iter       Train Loss      OOB Improve   Remaining Time \n"
     ]
    },
    {
     "name": "stderr",
     "output_type": "stream",
     "text": [
      "[Parallel(n_jobs=1)]: Done   1 out of   1 | elapsed:    5.8s remaining:    0.0s\n"
     ]
    },
    {
     "name": "stdout",
     "output_type": "stream",
     "text": [
      "         1           0.2773           0.0083            6.07s\n",
      "         2           0.2699           0.0076            6.13s\n",
      "         3           0.2621           0.0068            6.12s\n",
      "         4           0.2566           0.0061            5.88s\n",
      "         5           0.2499           0.0056            5.74s\n",
      "         6           0.2441           0.0051            5.54s\n",
      "         7           0.2394           0.0046            5.39s\n",
      "         8           0.2373           0.0041            5.29s\n",
      "         9           0.2337           0.0037            5.24s\n",
      "        10           0.2288           0.0034            5.13s\n",
      "        20           0.2084           0.0012            3.83s\n",
      "        30           0.1994           0.0005            2.57s\n",
      "        40           0.1964           0.0002            1.26s\n",
      "        50           0.1959           0.0000            0.00s\n",
      "[CV]  learning_rate=0.05, n_estimators=50, subsample=0.75, score=-0.439747 -   6.3s\n",
      "[CV] learning_rate=0.05, n_estimators=50, subsample=0.75 .............\n",
      "      Iter       Train Loss      OOB Improve   Remaining Time \n"
     ]
    },
    {
     "name": "stderr",
     "output_type": "stream",
     "text": [
      "[Parallel(n_jobs=1)]: Done   2 out of   2 | elapsed:   12.2s remaining:    0.0s\n"
     ]
    },
    {
     "name": "stdout",
     "output_type": "stream",
     "text": [
      "         1           0.2781           0.0084            6.36s\n",
      "         2           0.2714           0.0077            6.03s\n",
      "         3           0.2638           0.0069            5.90s\n",
      "         4           0.2573           0.0061            5.68s\n",
      "         5           0.2523           0.0055            5.53s\n",
      "         6           0.2461           0.0050            5.38s\n",
      "         7           0.2419           0.0046            5.24s\n",
      "         8           0.2376           0.0042            5.12s\n",
      "         9           0.2338           0.0038            4.98s\n",
      "        10           0.2292           0.0034            4.85s\n",
      "        20           0.2083           0.0012            3.59s\n",
      "        30           0.2002           0.0005            2.40s\n",
      "        40           0.1980           0.0002            1.20s\n",
      "        50           0.1972           0.0001            0.00s\n",
      "[CV]  learning_rate=0.05, n_estimators=50, subsample=0.75, score=-0.436658 -   6.1s\n",
      "[CV] learning_rate=0.05, n_estimators=50, subsample=0.75 .............\n",
      "      Iter       Train Loss      OOB Improve   Remaining Time \n"
     ]
    },
    {
     "name": "stderr",
     "output_type": "stream",
     "text": [
      "[Parallel(n_jobs=1)]: Done   3 out of   3 | elapsed:   18.4s remaining:    0.0s\n"
     ]
    },
    {
     "name": "stdout",
     "output_type": "stream",
     "text": [
      "         1           0.2773           0.0084            6.18s\n",
      "         2           0.2705           0.0075            5.87s\n",
      "         3           0.2627           0.0067            5.71s\n",
      "         4           0.2554           0.0063            5.56s\n",
      "         5           0.2502           0.0056            5.50s\n",
      "         6           0.2449           0.0050            5.34s\n",
      "         7           0.2402           0.0046            5.28s\n",
      "         8           0.2360           0.0041            5.16s\n",
      "         9           0.2324           0.0038            5.05s\n",
      "        10           0.2276           0.0035            4.92s\n",
      "        20           0.2073           0.0012            3.71s\n",
      "        30           0.1993           0.0005            2.46s\n",
      "        40           0.1971           0.0002            1.22s\n",
      "        50           0.1961           0.0000            0.00s\n",
      "[CV]  learning_rate=0.05, n_estimators=50, subsample=0.75, score=-0.441306 -   6.1s\n",
      "[CV] learning_rate=0.05, n_estimators=50, subsample=0.75 .............\n",
      "      Iter       Train Loss      OOB Improve   Remaining Time \n"
     ]
    },
    {
     "name": "stderr",
     "output_type": "stream",
     "text": [
      "[Parallel(n_jobs=1)]: Done   4 out of   4 | elapsed:   24.6s remaining:    0.0s\n"
     ]
    },
    {
     "name": "stdout",
     "output_type": "stream",
     "text": [
      "         1           0.2754           0.0082            6.11s\n",
      "         2           0.2669           0.0074            5.87s\n",
      "         3           0.2611           0.0065            5.68s\n",
      "         4           0.2526           0.0061            5.54s\n",
      "         5           0.2469           0.0055            5.44s\n",
      "         6           0.2418           0.0049            5.27s\n",
      "         7           0.2378           0.0045            5.21s\n",
      "         8           0.2322           0.0040            5.07s\n",
      "         9           0.2306           0.0037            4.97s\n",
      "        10           0.2258           0.0033            4.91s\n",
      "        20           0.2057           0.0013            3.68s\n",
      "        30           0.1966           0.0005            2.45s\n",
      "        40           0.1949           0.0002            1.22s\n",
      "        50           0.1934           0.0001            0.00s\n",
      "[CV]  learning_rate=0.05, n_estimators=50, subsample=0.75, score=-0.449841 -   6.1s\n",
      "[CV] learning_rate=0.05, n_estimators=60, subsample=0.75 .............\n",
      "      Iter       Train Loss      OOB Improve   Remaining Time \n"
     ]
    },
    {
     "name": "stderr",
     "output_type": "stream",
     "text": [
      "[Parallel(n_jobs=1)]: Done   5 out of   5 | elapsed:   30.9s remaining:    0.0s\n"
     ]
    },
    {
     "name": "stdout",
     "output_type": "stream",
     "text": [
      "         1           0.2748           0.0085            7.21s\n",
      "         2           0.2684           0.0077            6.93s\n",
      "         3           0.2617           0.0068            6.99s\n",
      "         4           0.2551           0.0062            6.91s\n",
      "         5           0.2491           0.0056            6.74s\n",
      "         6           0.2430           0.0051            6.66s\n",
      "         7           0.2384           0.0046            6.51s\n",
      "         8           0.2347           0.0042            6.35s\n",
      "         9           0.2316           0.0038            6.18s\n",
      "        10           0.2277           0.0034            5.95s\n",
      "        20           0.2072           0.0013            4.46s\n",
      "        30           0.1981           0.0005            3.45s\n",
      "        40           0.1949           0.0002            2.31s\n",
      "        50           0.1941           0.0000            1.15s\n",
      "        60           0.1943           0.0000            0.00s\n",
      "[CV]  learning_rate=0.05, n_estimators=60, subsample=0.75, score=-0.446777 -   6.9s\n",
      "[CV] learning_rate=0.05, n_estimators=60, subsample=0.75 .............\n",
      "      Iter       Train Loss      OOB Improve   Remaining Time \n"
     ]
    },
    {
     "name": "stderr",
     "output_type": "stream",
     "text": [
      "[Parallel(n_jobs=1)]: Done   6 out of   6 | elapsed:   37.9s remaining:    0.0s\n"
     ]
    },
    {
     "name": "stdout",
     "output_type": "stream",
     "text": [
      "         1           0.2773           0.0083            7.24s\n",
      "         2           0.2699           0.0076            7.49s\n",
      "         3           0.2621           0.0068            7.40s\n",
      "         4           0.2566           0.0061            7.15s\n",
      "         5           0.2499           0.0056            6.95s\n",
      "         6           0.2441           0.0051            6.76s\n",
      "         7           0.2394           0.0046            6.65s\n",
      "         8           0.2373           0.0041            6.46s\n",
      "         9           0.2337           0.0037            6.31s\n",
      "        10           0.2288           0.0034            6.18s\n",
      "        20           0.2084           0.0012            4.84s\n",
      "        30           0.1994           0.0005            3.60s\n",
      "        40           0.1964           0.0002            2.41s\n",
      "        50           0.1959           0.0000            1.20s\n",
      "        60           0.1961           0.0000            0.00s\n",
      "[CV]  learning_rate=0.05, n_estimators=60, subsample=0.75, score=-0.439170 -   7.2s\n",
      "[CV] learning_rate=0.05, n_estimators=60, subsample=0.75 .............\n",
      "      Iter       Train Loss      OOB Improve   Remaining Time \n"
     ]
    },
    {
     "name": "stderr",
     "output_type": "stream",
     "text": [
      "[Parallel(n_jobs=1)]: Done   7 out of   7 | elapsed:   45.2s remaining:    0.0s\n"
     ]
    },
    {
     "name": "stdout",
     "output_type": "stream",
     "text": [
      "         1           0.2781           0.0084            7.47s\n",
      "         2           0.2714           0.0077            7.42s\n",
      "         3           0.2638           0.0069            7.27s\n",
      "         4           0.2573           0.0061            7.02s\n",
      "         5           0.2523           0.0055            6.82s\n",
      "         6           0.2461           0.0050            6.71s\n",
      "         7           0.2419           0.0046            6.58s\n",
      "         8           0.2376           0.0042            6.41s\n",
      "         9           0.2338           0.0038            6.29s\n",
      "        10           0.2292           0.0034            6.19s\n",
      "        20           0.2083           0.0012            4.89s\n",
      "        30           0.2002           0.0005            3.66s\n",
      "        40           0.1980           0.0002            2.42s\n",
      "        50           0.1972           0.0001            1.22s\n",
      "        60           0.1957           0.0000            0.00s\n",
      "[CV]  learning_rate=0.05, n_estimators=60, subsample=0.75, score=-0.436188 -   7.4s\n",
      "[CV] learning_rate=0.05, n_estimators=60, subsample=0.75 .............\n",
      "      Iter       Train Loss      OOB Improve   Remaining Time \n"
     ]
    },
    {
     "name": "stderr",
     "output_type": "stream",
     "text": [
      "[Parallel(n_jobs=1)]: Done   8 out of   8 | elapsed:   52.7s remaining:    0.0s\n"
     ]
    },
    {
     "name": "stdout",
     "output_type": "stream",
     "text": [
      "         1           0.2773           0.0084            7.38s\n",
      "         2           0.2705           0.0075            7.29s\n",
      "         3           0.2627           0.0067            7.29s\n",
      "         4           0.2554           0.0063            7.11s\n",
      "         5           0.2502           0.0056            7.00s\n",
      "         6           0.2449           0.0050            6.87s\n",
      "         7           0.2402           0.0046            6.69s\n",
      "         8           0.2360           0.0041            6.68s\n",
      "         9           0.2324           0.0038            6.50s\n",
      "        10           0.2276           0.0035            6.35s\n",
      "        20           0.2073           0.0012            4.96s\n",
      "        30           0.1993           0.0005            3.68s\n",
      "        40           0.1971           0.0002            2.46s\n",
      "        50           0.1961           0.0000            1.23s\n",
      "        60           0.1950           0.0000            0.00s\n",
      "[CV]  learning_rate=0.05, n_estimators=60, subsample=0.75, score=-0.440835 -   7.3s\n",
      "[CV] learning_rate=0.05, n_estimators=60, subsample=0.75 .............\n",
      "      Iter       Train Loss      OOB Improve   Remaining Time \n"
     ]
    },
    {
     "name": "stderr",
     "output_type": "stream",
     "text": [
      "[Parallel(n_jobs=1)]: Done   9 out of   9 | elapsed:  1.0min remaining:    0.0s\n"
     ]
    },
    {
     "name": "stdout",
     "output_type": "stream",
     "text": [
      "         1           0.2754           0.0082            7.62s\n",
      "         2           0.2669           0.0074            7.14s\n",
      "         3           0.2611           0.0065            7.06s\n",
      "         4           0.2526           0.0061            6.89s\n",
      "         5           0.2469           0.0055            6.76s\n",
      "         6           0.2418           0.0049            6.57s\n",
      "         7           0.2378           0.0045            6.38s\n",
      "         8           0.2322           0.0040            6.09s\n",
      "         9           0.2306           0.0037            5.84s\n",
      "        10           0.2258           0.0033            5.63s\n",
      "        20           0.2057           0.0013            4.45s\n",
      "        30           0.1966           0.0005            3.40s\n",
      "        40           0.1949           0.0002            2.29s\n",
      "        50           0.1934           0.0001            1.16s\n",
      "        60           0.1930          -0.0000            0.00s\n",
      "[CV]  learning_rate=0.05, n_estimators=60, subsample=0.75, score=-0.449659 -   7.1s\n",
      "[CV] learning_rate=0.05, n_estimators=70, subsample=0.75 .............\n",
      "      Iter       Train Loss      OOB Improve   Remaining Time \n"
     ]
    },
    {
     "name": "stderr",
     "output_type": "stream",
     "text": [
      "[Parallel(n_jobs=1)]: Done  10 out of  10 | elapsed:  1.1min remaining:    0.0s\n"
     ]
    },
    {
     "name": "stdout",
     "output_type": "stream",
     "text": [
      "         1           0.2748           0.0085            8.22s\n",
      "         2           0.2684           0.0077            8.20s\n",
      "         3           0.2617           0.0068            8.05s\n",
      "         4           0.2551           0.0062            7.84s\n",
      "         5           0.2491           0.0056            7.70s\n",
      "         6           0.2430           0.0051            7.63s\n",
      "         7           0.2384           0.0046            7.50s\n",
      "         8           0.2347           0.0042            7.39s\n",
      "         9           0.2316           0.0038            7.26s\n",
      "        10           0.2277           0.0034            7.13s\n",
      "        20           0.2072           0.0013            5.96s\n",
      "        30           0.1981           0.0005            4.75s\n",
      "        40           0.1949           0.0002            3.55s\n",
      "        50           0.1941           0.0000            2.37s\n",
      "        60           0.1943           0.0000            1.18s\n",
      "        70           0.1941           0.0000            0.00s\n",
      "[CV]  learning_rate=0.05, n_estimators=70, subsample=0.75, score=-0.446555 -   8.2s\n",
      "[CV] learning_rate=0.05, n_estimators=70, subsample=0.75 .............\n",
      "      Iter       Train Loss      OOB Improve   Remaining Time \n"
     ]
    },
    {
     "name": "stderr",
     "output_type": "stream",
     "text": [
      "[Parallel(n_jobs=1)]: Done  11 out of  11 | elapsed:  1.3min remaining:    0.0s\n"
     ]
    },
    {
     "name": "stdout",
     "output_type": "stream",
     "text": [
      "         1           0.2773           0.0083            8.01s\n",
      "         2           0.2699           0.0076            8.20s\n",
      "         3           0.2621           0.0068            8.15s\n",
      "         4           0.2566           0.0061            7.98s\n",
      "         5           0.2499           0.0056            7.93s\n",
      "         6           0.2441           0.0051            7.78s\n",
      "         7           0.2394           0.0046            7.66s\n",
      "         8           0.2373           0.0041            7.50s\n",
      "         9           0.2337           0.0037            7.40s\n",
      "        10           0.2288           0.0034            7.26s\n",
      "        20           0.2084           0.0012            5.95s\n",
      "        30           0.1994           0.0005            4.67s\n",
      "        40           0.1964           0.0002            3.51s\n",
      "        50           0.1959           0.0000            2.35s\n",
      "        60           0.1961           0.0000            1.18s\n",
      "        70           0.1959           0.0000            0.00s\n",
      "[CV]  learning_rate=0.05, n_estimators=70, subsample=0.75, score=-0.438945 -   8.2s\n",
      "[CV] learning_rate=0.05, n_estimators=70, subsample=0.75 .............\n",
      "      Iter       Train Loss      OOB Improve   Remaining Time \n"
     ]
    },
    {
     "name": "stderr",
     "output_type": "stream",
     "text": [
      "[Parallel(n_jobs=1)]: Done  12 out of  12 | elapsed:  1.4min remaining:    0.0s\n"
     ]
    },
    {
     "name": "stdout",
     "output_type": "stream",
     "text": [
      "         1           0.2781           0.0084            8.02s\n",
      "         2           0.2714           0.0077            7.98s\n",
      "         3           0.2638           0.0069            7.90s\n",
      "         4           0.2573           0.0061            8.05s\n",
      "         5           0.2523           0.0055            7.91s\n",
      "         6           0.2461           0.0050            7.75s\n",
      "         7           0.2419           0.0046            7.57s\n",
      "         8           0.2376           0.0042            7.41s\n",
      "         9           0.2338           0.0038            7.10s\n",
      "        10           0.2292           0.0034            6.86s\n",
      "        20           0.2083           0.0012            5.83s\n",
      "        30           0.2002           0.0005            4.73s\n",
      "        40           0.1980           0.0002            3.58s\n",
      "        50           0.1972           0.0001            2.38s\n",
      "        60           0.1957           0.0000            1.20s\n",
      "        70           0.1961           0.0000            0.00s\n",
      "[CV]  learning_rate=0.05, n_estimators=70, subsample=0.75, score=-0.436006 -   8.5s\n",
      "[CV] learning_rate=0.05, n_estimators=70, subsample=0.75 .............\n",
      "      Iter       Train Loss      OOB Improve   Remaining Time \n"
     ]
    },
    {
     "name": "stderr",
     "output_type": "stream",
     "text": [
      "[Parallel(n_jobs=1)]: Done  13 out of  13 | elapsed:  1.5min remaining:    0.0s\n"
     ]
    },
    {
     "name": "stdout",
     "output_type": "stream",
     "text": [
      "         1           0.2773           0.0084            8.94s\n",
      "         2           0.2705           0.0075            8.59s\n",
      "         3           0.2627           0.0067            8.57s\n",
      "         4           0.2554           0.0063            8.43s\n",
      "         5           0.2502           0.0056            8.25s\n",
      "         6           0.2449           0.0050            8.09s\n",
      "         7           0.2402           0.0046            8.01s\n",
      "         8           0.2360           0.0041            7.80s\n",
      "         9           0.2324           0.0038            7.64s\n",
      "        10           0.2276           0.0035            7.47s\n",
      "        20           0.2073           0.0012            6.07s\n",
      "        30           0.1993           0.0005            4.82s\n",
      "        40           0.1971           0.0002            3.58s\n",
      "        50           0.1961           0.0000            2.37s\n",
      "        60           0.1950           0.0000            1.19s\n",
      "        70           0.1946          -0.0000            0.00s\n",
      "[CV]  learning_rate=0.05, n_estimators=70, subsample=0.75, score=-0.440687 -   8.3s\n",
      "[CV] learning_rate=0.05, n_estimators=70, subsample=0.75 .............\n",
      "      Iter       Train Loss      OOB Improve   Remaining Time \n"
     ]
    },
    {
     "name": "stderr",
     "output_type": "stream",
     "text": [
      "[Parallel(n_jobs=1)]: Done  14 out of  14 | elapsed:  1.7min remaining:    0.0s\n"
     ]
    },
    {
     "name": "stdout",
     "output_type": "stream",
     "text": [
      "         1           0.2754           0.0082            8.08s\n",
      "         2           0.2669           0.0074            7.96s\n",
      "         3           0.2611           0.0065            7.90s\n",
      "         4           0.2526           0.0061            7.86s\n",
      "         5           0.2469           0.0055            7.73s\n",
      "         6           0.2418           0.0049            7.62s\n",
      "         7           0.2378           0.0045            7.51s\n",
      "         8           0.2322           0.0040            7.40s\n",
      "         9           0.2306           0.0037            7.27s\n",
      "        10           0.2258           0.0033            7.14s\n",
      "        20           0.2057           0.0013            5.90s\n",
      "        30           0.1966           0.0005            4.72s\n",
      "        40           0.1949           0.0002            3.45s\n",
      "        50           0.1934           0.0001            2.32s\n",
      "        60           0.1930          -0.0000            1.17s\n",
      "        70           0.1927           0.0000            0.00s\n",
      "[CV]  learning_rate=0.05, n_estimators=70, subsample=0.75, score=-0.449656 -   8.2s\n",
      "[CV] learning_rate=0.05, n_estimators=80, subsample=0.75 .............\n",
      "      Iter       Train Loss      OOB Improve   Remaining Time \n"
     ]
    },
    {
     "name": "stderr",
     "output_type": "stream",
     "text": [
      "[Parallel(n_jobs=1)]: Done  15 out of  15 | elapsed:  1.8min remaining:    0.0s\n"
     ]
    },
    {
     "name": "stdout",
     "output_type": "stream",
     "text": [
      "         1           0.2748           0.0085            9.72s\n",
      "         2           0.2684           0.0077            9.29s\n",
      "         3           0.2617           0.0068            9.23s\n",
      "         4           0.2551           0.0062            9.05s\n",
      "         5           0.2491           0.0056            9.00s\n",
      "         6           0.2430           0.0051            8.86s\n",
      "         7           0.2384           0.0046            8.76s\n",
      "         8           0.2347           0.0042            8.62s\n",
      "         9           0.2316           0.0038            8.49s\n",
      "        10           0.2277           0.0034            8.34s\n",
      "        20           0.2072           0.0013            7.11s\n",
      "        30           0.1981           0.0005            5.91s\n",
      "        40           0.1949           0.0002            4.73s\n",
      "        50           0.1941           0.0000            3.53s\n",
      "        60           0.1943           0.0000            2.36s\n",
      "        70           0.1941           0.0000            1.18s\n",
      "        80           0.1929          -0.0000            0.00s\n",
      "[CV]  learning_rate=0.05, n_estimators=80, subsample=0.75, score=-0.446443 -   9.4s\n",
      "[CV] learning_rate=0.05, n_estimators=80, subsample=0.75 .............\n",
      "      Iter       Train Loss      OOB Improve   Remaining Time \n"
     ]
    },
    {
     "name": "stderr",
     "output_type": "stream",
     "text": [
      "[Parallel(n_jobs=1)]: Done  16 out of  16 | elapsed:  2.0min remaining:    0.0s\n"
     ]
    },
    {
     "name": "stdout",
     "output_type": "stream",
     "text": [
      "         1           0.2773           0.0083            9.01s\n",
      "         2           0.2699           0.0076            9.10s\n",
      "         3           0.2621           0.0068            8.99s\n",
      "         4           0.2566           0.0061            8.95s\n",
      "         5           0.2499           0.0056            8.81s\n",
      "         6           0.2441           0.0051            8.69s\n",
      "         7           0.2394           0.0046            8.60s\n",
      "         8           0.2373           0.0041            8.51s\n",
      "         9           0.2337           0.0037            8.38s\n",
      "        10           0.2288           0.0034            8.26s\n",
      "        20           0.2084           0.0012            7.34s\n",
      "        30           0.1994           0.0005            6.08s\n",
      "        40           0.1964           0.0002            4.87s\n",
      "        50           0.1959           0.0000            3.64s\n",
      "        60           0.1961           0.0000            2.41s\n",
      "        70           0.1959           0.0000            1.20s\n",
      "        80           0.1946           0.0000            0.00s\n",
      "[CV]  learning_rate=0.05, n_estimators=80, subsample=0.75, score=-0.438866 -   9.6s\n",
      "[CV] learning_rate=0.05, n_estimators=80, subsample=0.75 .............\n",
      "      Iter       Train Loss      OOB Improve   Remaining Time \n"
     ]
    },
    {
     "name": "stderr",
     "output_type": "stream",
     "text": [
      "[Parallel(n_jobs=1)]: Done  17 out of  17 | elapsed:  2.1min remaining:    0.0s\n"
     ]
    },
    {
     "name": "stdout",
     "output_type": "stream",
     "text": [
      "         1           0.2781           0.0084            9.41s\n",
      "         2           0.2714           0.0077            9.09s\n",
      "         3           0.2638           0.0069            9.08s\n",
      "         4           0.2573           0.0061            8.98s\n",
      "         5           0.2523           0.0055            8.88s\n",
      "         6           0.2461           0.0050            8.78s\n",
      "         7           0.2419           0.0046            8.65s\n",
      "         8           0.2376           0.0042            8.51s\n",
      "         9           0.2338           0.0038            8.39s\n",
      "        10           0.2292           0.0034            8.26s\n",
      "        20           0.2083           0.0012            7.06s\n",
      "        30           0.2002           0.0005            5.93s\n",
      "        40           0.1980           0.0002            4.74s\n",
      "        50           0.1972           0.0001            3.53s\n",
      "        60           0.1957           0.0000            2.35s\n",
      "        70           0.1961           0.0000            1.17s\n",
      "        80           0.1940          -0.0000            0.00s\n",
      "[CV]  learning_rate=0.05, n_estimators=80, subsample=0.75, score=-0.435960 -   9.4s\n",
      "[CV] learning_rate=0.05, n_estimators=80, subsample=0.75 .............\n",
      "      Iter       Train Loss      OOB Improve   Remaining Time \n"
     ]
    },
    {
     "name": "stderr",
     "output_type": "stream",
     "text": [
      "[Parallel(n_jobs=1)]: Done  18 out of  18 | elapsed:  2.3min remaining:    0.0s\n"
     ]
    },
    {
     "name": "stdout",
     "output_type": "stream",
     "text": [
      "         1           0.2773           0.0084            9.25s\n",
      "         2           0.2705           0.0075            9.05s\n",
      "         3           0.2627           0.0067            8.94s\n",
      "         4           0.2554           0.0063            8.81s\n",
      "         5           0.2502           0.0056            8.72s\n",
      "         6           0.2449           0.0050            8.69s\n",
      "         7           0.2402           0.0046            8.57s\n",
      "         8           0.2360           0.0041            8.45s\n",
      "         9           0.2324           0.0038            8.37s\n",
      "        10           0.2276           0.0035            8.23s\n",
      "        20           0.2073           0.0012            6.96s\n",
      "        30           0.1993           0.0005            5.86s\n",
      "        40           0.1971           0.0002            4.89s\n",
      "        50           0.1961           0.0000            3.67s\n",
      "        60           0.1950           0.0000            2.42s\n",
      "        70           0.1946          -0.0000            1.20s\n",
      "        80           0.1932          -0.0000            0.00s\n",
      "[CV]  learning_rate=0.05, n_estimators=80, subsample=0.75, score=-0.440669 -   9.6s\n",
      "[CV] learning_rate=0.05, n_estimators=80, subsample=0.75 .............\n",
      "      Iter       Train Loss      OOB Improve   Remaining Time \n"
     ]
    },
    {
     "name": "stderr",
     "output_type": "stream",
     "text": [
      "[Parallel(n_jobs=1)]: Done  19 out of  19 | elapsed:  2.5min remaining:    0.0s\n"
     ]
    },
    {
     "name": "stdout",
     "output_type": "stream",
     "text": [
      "         1           0.2754           0.0082            9.46s\n",
      "         2           0.2669           0.0074           10.31s\n",
      "         3           0.2611           0.0065           10.04s\n",
      "         4           0.2526           0.0061            9.62s\n",
      "         5           0.2469           0.0055            9.41s\n",
      "         6           0.2418           0.0049            9.18s\n",
      "         7           0.2378           0.0045            8.98s\n",
      "         8           0.2322           0.0040            8.80s\n",
      "         9           0.2306           0.0037            8.64s\n",
      "        10           0.2258           0.0033            8.55s\n",
      "        20           0.2057           0.0013            7.27s\n",
      "        30           0.1966           0.0005            5.98s\n",
      "        40           0.1949           0.0002            4.74s\n",
      "        50           0.1934           0.0001            3.53s\n",
      "        60           0.1930          -0.0000            2.35s\n",
      "        70           0.1927           0.0000            1.17s\n",
      "        80           0.1916          -0.0000            0.00s\n",
      "[CV]  learning_rate=0.05, n_estimators=80, subsample=0.75, score=-0.449708 -   9.5s\n",
      "[CV] learning_rate=0.05, n_estimators=90, subsample=0.75 .............\n",
      "      Iter       Train Loss      OOB Improve   Remaining Time \n",
      "         1           0.2748           0.0085           10.56s\n",
      "         2           0.2684           0.0077           10.69s\n",
      "         3           0.2617           0.0068           10.52s\n",
      "         4           0.2551           0.0062           10.31s\n",
      "         5           0.2491           0.0056           10.18s\n",
      "         6           0.2430           0.0051           10.06s\n",
      "         7           0.2384           0.0046            9.94s\n",
      "         8           0.2347           0.0042            9.82s\n",
      "         9           0.2316           0.0038            9.77s\n",
      "        10           0.2277           0.0034            9.80s\n",
      "        20           0.2072           0.0013            8.73s\n",
      "        30           0.1981           0.0005            7.38s\n",
      "        40           0.1949           0.0002            6.12s\n",
      "        50           0.1941           0.0000            4.87s\n",
      "        60           0.1943           0.0000            3.62s\n",
      "        70           0.1941           0.0000            2.39s\n",
      "        80           0.1929          -0.0000            1.18s\n",
      "        90           0.1926           0.0000            0.00s\n",
      "[CV]  learning_rate=0.05, n_estimators=90, subsample=0.75, score=-0.446418 -  10.7s\n",
      "[CV] learning_rate=0.05, n_estimators=90, subsample=0.75 .............\n",
      "      Iter       Train Loss      OOB Improve   Remaining Time \n",
      "         1           0.2773           0.0083           10.30s\n",
      "         2           0.2699           0.0076           10.31s\n",
      "         3           0.2621           0.0068           10.25s\n",
      "         4           0.2566           0.0061           10.35s\n",
      "         5           0.2499           0.0056           10.22s\n",
      "         6           0.2441           0.0051           10.04s\n",
      "         7           0.2394           0.0046            9.88s\n",
      "         8           0.2373           0.0041            9.74s\n",
      "         9           0.2337           0.0037            9.60s\n",
      "        10           0.2288           0.0034            9.47s\n",
      "        20           0.2084           0.0012            8.29s\n",
      "        30           0.1994           0.0005            7.04s\n",
      "        40           0.1964           0.0002            5.98s\n",
      "        50           0.1959           0.0000            4.77s\n",
      "        60           0.1961           0.0000            3.51s\n",
      "        70           0.1959           0.0000            2.31s\n",
      "        80           0.1946           0.0000            1.15s\n",
      "        90           0.1943          -0.0000            0.00s\n",
      "[CV]  learning_rate=0.05, n_estimators=90, subsample=0.75, score=-0.438854 -  10.4s\n",
      "[CV] learning_rate=0.05, n_estimators=90, subsample=0.75 .............\n",
      "      Iter       Train Loss      OOB Improve   Remaining Time \n",
      "         1           0.2781           0.0084           10.90s\n",
      "         2           0.2714           0.0077           10.54s\n",
      "         3           0.2638           0.0069           10.43s\n",
      "         4           0.2573           0.0061           10.24s\n",
      "         5           0.2523           0.0055           10.13s\n",
      "         6           0.2461           0.0050           10.08s\n",
      "         7           0.2419           0.0046            9.89s\n",
      "         8           0.2376           0.0042            9.77s\n",
      "         9           0.2338           0.0038            9.60s\n",
      "        10           0.2292           0.0034            9.44s\n",
      "        20           0.2083           0.0012            8.32s\n",
      "        30           0.2002           0.0005            7.08s\n",
      "        40           0.1980           0.0002            5.85s\n",
      "        50           0.1972           0.0001            4.68s\n",
      "        60           0.1957           0.0000            3.48s\n",
      "        70           0.1961           0.0000            2.31s\n",
      "        80           0.1940          -0.0000            1.15s\n",
      "        90           0.1952          -0.0000            0.00s\n",
      "[CV]  learning_rate=0.05, n_estimators=90, subsample=0.75, score=-0.435963 -  10.4s\n",
      "[CV] learning_rate=0.05, n_estimators=90, subsample=0.75 .............\n",
      "      Iter       Train Loss      OOB Improve   Remaining Time \n",
      "         1           0.2773           0.0084           11.67s\n",
      "         2           0.2705           0.0075           11.01s\n",
      "         3           0.2627           0.0067           10.68s\n",
      "         4           0.2554           0.0063           10.36s\n",
      "         5           0.2502           0.0056           10.28s\n",
      "         6           0.2449           0.0050           10.08s\n",
      "         7           0.2402           0.0046            9.94s\n",
      "         8           0.2360           0.0041            9.87s\n",
      "         9           0.2324           0.0038            9.88s\n",
      "        10           0.2276           0.0035            9.69s\n",
      "        20           0.2073           0.0012            8.45s\n",
      "        30           0.1993           0.0005            7.25s\n",
      "        40           0.1971           0.0002            6.02s\n",
      "        50           0.1961           0.0000            4.81s\n",
      "        60           0.1950           0.0000            3.59s\n",
      "        70           0.1946          -0.0000            2.40s\n",
      "        80           0.1932          -0.0000            1.20s\n",
      "        90           0.1943          -0.0000            0.00s\n",
      "[CV]  learning_rate=0.05, n_estimators=90, subsample=0.75, score=-0.440640 -  10.7s\n",
      "[CV] learning_rate=0.05, n_estimators=90, subsample=0.75 .............\n",
      "      Iter       Train Loss      OOB Improve   Remaining Time \n",
      "         1           0.2754           0.0082           10.51s\n",
      "         2           0.2669           0.0074           10.39s\n",
      "         3           0.2611           0.0065           10.71s\n",
      "         4           0.2526           0.0061           10.46s\n",
      "         5           0.2469           0.0055           10.34s\n",
      "         6           0.2418           0.0049           10.21s\n",
      "         7           0.2378           0.0045           10.10s\n",
      "         8           0.2322           0.0040            9.94s\n",
      "         9           0.2306           0.0037            9.78s\n",
      "        10           0.2258           0.0033            9.63s\n",
      "        20           0.2057           0.0013            8.39s\n",
      "        30           0.1966           0.0005            7.13s\n",
      "        40           0.1949           0.0002            5.92s\n",
      "        50           0.1934           0.0001            4.79s\n",
      "        60           0.1930          -0.0000            3.57s\n",
      "        70           0.1927           0.0000            2.36s\n",
      "        80           0.1916          -0.0000            1.17s\n",
      "        90           0.1923          -0.0000            0.00s\n",
      "[CV]  learning_rate=0.05, n_estimators=90, subsample=0.75, score=-0.449783 -  10.6s\n",
      "[CV] learning_rate=0.05, n_estimators=100, subsample=0.75 ............\n",
      "      Iter       Train Loss      OOB Improve   Remaining Time \n",
      "         1           0.2748           0.0085           11.44s\n",
      "         2           0.2684           0.0077           11.34s\n",
      "         3           0.2617           0.0068           11.28s\n",
      "         4           0.2551           0.0062           11.09s\n",
      "         5           0.2491           0.0056           11.09s\n",
      "         6           0.2430           0.0051           11.06s\n",
      "         7           0.2384           0.0046           10.93s\n",
      "         8           0.2347           0.0042           10.79s\n",
      "         9           0.2316           0.0038           10.91s\n",
      "        10           0.2277           0.0034           10.74s\n",
      "        20           0.2072           0.0013           11.12s\n",
      "        30           0.1981           0.0005            9.38s\n",
      "        40           0.1949           0.0002            7.83s\n",
      "        50           0.1941           0.0000            6.46s\n",
      "        60           0.1943           0.0000            5.06s\n",
      "        70           0.1941           0.0000            3.78s\n",
      "        80           0.1929          -0.0000            2.53s\n",
      "        90           0.1926           0.0000            1.28s\n",
      "       100           0.1926          -0.0000            0.00s\n",
      "[CV]  learning_rate=0.05, n_estimators=100, subsample=0.75, score=-0.446413 -  13.3s\n",
      "[CV] learning_rate=0.05, n_estimators=100, subsample=0.75 ............\n",
      "      Iter       Train Loss      OOB Improve   Remaining Time \n",
      "         1           0.2773           0.0083           17.03s\n",
      "         2           0.2699           0.0076           16.62s\n",
      "         3           0.2621           0.0068           14.92s\n",
      "         4           0.2566           0.0061           14.28s\n",
      "         5           0.2499           0.0056           13.43s\n",
      "         6           0.2441           0.0051           13.31s\n",
      "         7           0.2394           0.0046           12.81s\n",
      "         8           0.2373           0.0041           12.60s\n",
      "         9           0.2337           0.0037           12.16s\n",
      "        10           0.2288           0.0034           12.13s\n",
      "        20           0.2084           0.0012            8.65s\n",
      "        30           0.1994           0.0005            8.17s\n",
      "        40           0.1964           0.0002            7.09s\n",
      "        50           0.1959           0.0000            5.95s\n",
      "        60           0.1961           0.0000            4.87s\n",
      "        70           0.1959           0.0000            3.78s\n",
      "        80           0.1946           0.0000            2.55s\n",
      "        90           0.1943          -0.0000            1.28s\n",
      "       100           0.1946          -0.0000            0.00s\n",
      "[CV]  learning_rate=0.05, n_estimators=100, subsample=0.75, score=-0.438876 -  13.0s\n",
      "[CV] learning_rate=0.05, n_estimators=100, subsample=0.75 ............\n",
      "      Iter       Train Loss      OOB Improve   Remaining Time \n",
      "         1           0.2781           0.0084           23.20s\n",
      "         2           0.2714           0.0077           19.30s\n",
      "         3           0.2638           0.0069           17.69s\n",
      "         4           0.2573           0.0061           15.43s\n",
      "         5           0.2523           0.0055           14.49s\n",
      "         6           0.2461           0.0050           14.21s\n",
      "         7           0.2419           0.0046           13.81s\n",
      "         8           0.2376           0.0042           13.73s\n",
      "         9           0.2338           0.0038           14.34s\n",
      "        10           0.2292           0.0034           14.58s\n",
      "        20           0.2083           0.0012           11.72s\n",
      "        30           0.2002           0.0005            9.60s\n",
      "        40           0.1980           0.0002            7.95s\n",
      "        50           0.1972           0.0001            6.48s\n",
      "        60           0.1957           0.0000            5.19s\n",
      "        70           0.1961           0.0000            3.89s\n",
      "        80           0.1940          -0.0000            2.52s\n",
      "        90           0.1952          -0.0000            1.24s\n",
      "       100           0.1954          -0.0000            0.00s\n",
      "[CV]  learning_rate=0.05, n_estimators=100, subsample=0.75, score=-0.435965 -  12.4s\n",
      "[CV] learning_rate=0.05, n_estimators=100, subsample=0.75 ............\n",
      "      Iter       Train Loss      OOB Improve   Remaining Time \n",
      "         1           0.2773           0.0084           15.35s\n",
      "         2           0.2705           0.0075           13.19s\n",
      "         3           0.2627           0.0067           12.84s\n",
      "         4           0.2554           0.0063           12.92s\n",
      "         5           0.2502           0.0056           12.59s\n",
      "         6           0.2449           0.0050           12.31s\n",
      "         7           0.2402           0.0046           12.02s\n",
      "         8           0.2360           0.0041           12.04s\n",
      "         9           0.2324           0.0038           11.84s\n",
      "        10           0.2276           0.0035           11.71s\n",
      "        20           0.2073           0.0012            9.95s\n",
      "        30           0.1993           0.0005            8.55s\n",
      "        40           0.1971           0.0002            7.39s\n",
      "        50           0.1961           0.0000            6.12s\n",
      "        60           0.1950           0.0000            4.78s\n",
      "        70           0.1946          -0.0000            3.56s\n",
      "        80           0.1932          -0.0000            2.35s\n",
      "        90           0.1943          -0.0000            1.16s\n",
      "       100           0.1944           0.0000            0.00s\n",
      "[CV]  learning_rate=0.05, n_estimators=100, subsample=0.75, score=-0.440622 -  11.7s\n",
      "[CV] learning_rate=0.05, n_estimators=100, subsample=0.75 ............\n",
      "      Iter       Train Loss      OOB Improve   Remaining Time \n",
      "         1           0.2754           0.0082           14.27s\n",
      "         2           0.2669           0.0074           13.14s\n",
      "         3           0.2611           0.0065           12.83s\n",
      "         4           0.2526           0.0061           12.82s\n",
      "         5           0.2469           0.0055           12.86s\n",
      "         6           0.2418           0.0049           12.45s\n",
      "         7           0.2378           0.0045           12.40s\n",
      "         8           0.2322           0.0040           12.17s\n",
      "         9           0.2306           0.0037           12.01s\n",
      "        10           0.2258           0.0033           11.72s\n",
      "        20           0.2057           0.0013           10.07s\n",
      "        30           0.1966           0.0005            8.73s\n",
      "        40           0.1949           0.0002            7.45s\n",
      "        50           0.1934           0.0001            6.19s\n",
      "        60           0.1930          -0.0000            4.94s\n",
      "        70           0.1927           0.0000            3.67s\n",
      "        80           0.1916          -0.0000            2.44s\n",
      "        90           0.1923          -0.0000            1.21s\n",
      "       100           0.1919          -0.0000            0.00s\n",
      "[CV]  learning_rate=0.05, n_estimators=100, subsample=0.75, score=-0.449882 -  12.1s\n",
      "[CV] learning_rate=0.05, n_estimators=110, subsample=0.75 ............\n",
      "      Iter       Train Loss      OOB Improve   Remaining Time \n",
      "         1           0.2748           0.0085           17.02s\n",
      "         2           0.2684           0.0077           14.57s\n",
      "         3           0.2617           0.0068           13.85s\n",
      "         4           0.2551           0.0062           13.94s\n",
      "         5           0.2491           0.0056           13.48s\n",
      "         6           0.2430           0.0051           13.38s\n",
      "         7           0.2384           0.0046           13.20s\n",
      "         8           0.2347           0.0042           13.22s\n",
      "         9           0.2316           0.0038           12.91s\n",
      "        10           0.2277           0.0034           12.97s\n",
      "        20           0.2072           0.0013           11.12s\n",
      "        30           0.1981           0.0005            9.78s\n",
      "        40           0.1949           0.0002            8.38s\n",
      "        50           0.1941           0.0000            7.13s\n",
      "        60           0.1943           0.0000            5.87s\n",
      "        70           0.1941           0.0000            4.69s\n",
      "        80           0.1929          -0.0000            3.49s\n",
      "        90           0.1926           0.0000            2.32s\n",
      "       100           0.1926          -0.0000            1.16s\n",
      "[CV]  learning_rate=0.05, n_estimators=110, subsample=0.75, score=-0.446403 -  12.8s\n",
      "[CV] learning_rate=0.05, n_estimators=110, subsample=0.75 ............\n",
      "      Iter       Train Loss      OOB Improve   Remaining Time \n",
      "         1           0.2773           0.0083           12.81s\n",
      "         2           0.2699           0.0076           14.70s\n",
      "         3           0.2621           0.0068           14.14s\n",
      "         4           0.2566           0.0061           13.82s\n",
      "         5           0.2499           0.0056           13.55s\n",
      "         6           0.2441           0.0051           13.47s\n",
      "         7           0.2394           0.0046           13.12s\n",
      "         8           0.2373           0.0041           13.11s\n",
      "         9           0.2337           0.0037           12.90s\n",
      "        10           0.2288           0.0034           12.78s\n",
      "        20           0.2084           0.0012           11.11s\n",
      "        30           0.1994           0.0005            9.90s\n",
      "        40           0.1964           0.0002            8.51s\n",
      "        50           0.1959           0.0000            7.36s\n",
      "        60           0.1961           0.0000            6.11s\n",
      "        70           0.1959           0.0000            4.88s\n",
      "        80           0.1946           0.0000            3.66s\n",
      "        90           0.1943          -0.0000            2.41s\n",
      "       100           0.1946          -0.0000            1.20s\n",
      "[CV]  learning_rate=0.05, n_estimators=110, subsample=0.75, score=-0.438858 -  13.2s\n",
      "[CV] learning_rate=0.05, n_estimators=110, subsample=0.75 ............\n",
      "      Iter       Train Loss      OOB Improve   Remaining Time \n",
      "         1           0.2781           0.0084           13.31s\n",
      "         2           0.2714           0.0077           15.10s\n",
      "         3           0.2638           0.0069           14.70s\n",
      "         4           0.2573           0.0061           14.11s\n",
      "         5           0.2523           0.0055           13.64s\n",
      "         6           0.2461           0.0050           13.64s\n",
      "         7           0.2419           0.0046           13.36s\n",
      "         8           0.2376           0.0042           13.31s\n",
      "         9           0.2338           0.0038           12.99s\n",
      "        10           0.2292           0.0034           12.93s\n",
      "        20           0.2083           0.0012           11.09s\n",
      "        30           0.2002           0.0005            9.94s\n",
      "        40           0.1980           0.0002            9.30s\n",
      "        50           0.1972           0.0001            7.90s\n",
      "        60           0.1957           0.0000            6.47s\n",
      "        70           0.1961           0.0000            5.11s\n",
      "        80           0.1940          -0.0000            3.80s\n",
      "        90           0.1952          -0.0000            2.52s\n",
      "       100           0.1954          -0.0000            1.25s\n",
      "[CV]  learning_rate=0.05, n_estimators=110, subsample=0.75, score=-0.435934 -  13.8s\n",
      "[CV] learning_rate=0.05, n_estimators=110, subsample=0.75 ............\n",
      "      Iter       Train Loss      OOB Improve   Remaining Time \n",
      "         1           0.2773           0.0084           13.69s\n",
      "         2           0.2705           0.0075           15.16s\n",
      "         3           0.2627           0.0067           14.65s\n",
      "         4           0.2554           0.0063           14.20s\n",
      "         5           0.2502           0.0056           13.72s\n",
      "         6           0.2449           0.0050           13.96s\n",
      "         7           0.2402           0.0046           13.56s\n",
      "         8           0.2360           0.0041           13.34s\n",
      "         9           0.2324           0.0038           13.01s\n",
      "        10           0.2276           0.0035           12.96s\n",
      "        20           0.2073           0.0012           11.28s\n",
      "        30           0.1993           0.0005            9.93s\n",
      "        40           0.1971           0.0002            8.61s\n",
      "        50           0.1961           0.0000            7.69s\n",
      "        60           0.1950           0.0000            6.54s\n",
      "        70           0.1946          -0.0000            5.22s\n",
      "        80           0.1932          -0.0000            3.90s\n",
      "        90           0.1943          -0.0000            2.60s\n",
      "       100           0.1944           0.0000            1.30s\n",
      "[CV]  learning_rate=0.05, n_estimators=110, subsample=0.75, score=-0.440619 -  14.6s\n",
      "[CV] learning_rate=0.05, n_estimators=110, subsample=0.75 ............\n",
      "      Iter       Train Loss      OOB Improve   Remaining Time \n",
      "         1           0.2754           0.0082           13.36s\n",
      "         2           0.2669           0.0074           13.92s\n",
      "         3           0.2611           0.0065           13.94s\n",
      "         4           0.2526           0.0061           15.34s\n",
      "         5           0.2469           0.0055           16.55s\n",
      "         6           0.2418           0.0049           17.39s\n",
      "         7           0.2378           0.0045           16.86s\n",
      "         8           0.2322           0.0040           16.18s\n",
      "         9           0.2306           0.0037           15.75s\n",
      "        10           0.2258           0.0033           15.37s\n",
      "        20           0.2057           0.0013           13.91s\n",
      "        30           0.1966           0.0005           11.55s\n",
      "        40           0.1949           0.0002           10.24s\n",
      "        50           0.1934           0.0001            8.94s\n",
      "        60           0.1930          -0.0000            7.57s\n",
      "        70           0.1927           0.0000            6.01s\n",
      "        80           0.1916          -0.0000            4.36s\n",
      "        90           0.1923          -0.0000            2.84s\n",
      "       100           0.1919          -0.0000            1.39s\n",
      "[CV]  learning_rate=0.05, n_estimators=110, subsample=0.75, score=-0.449885 -  15.1s\n",
      "[CV] learning_rate=0.05, n_estimators=120, subsample=0.75 ............\n",
      "      Iter       Train Loss      OOB Improve   Remaining Time \n",
      "         1           0.2748           0.0085           13.94s\n",
      "         2           0.2684           0.0077           14.83s\n",
      "         3           0.2617           0.0068           14.68s\n",
      "         4           0.2551           0.0062           14.74s\n",
      "         5           0.2491           0.0056           14.43s\n",
      "         6           0.2430           0.0051           14.51s\n",
      "         7           0.2384           0.0046           14.20s\n",
      "         8           0.2347           0.0042           14.21s\n",
      "         9           0.2316           0.0038           14.00s\n",
      "        10           0.2277           0.0034           14.00s\n",
      "        20           0.2072           0.0013           12.52s\n",
      "        30           0.1981           0.0005           11.07s\n",
      "        40           0.1949           0.0002            9.18s\n",
      "        50           0.1941           0.0000            8.08s\n",
      "        60           0.1943           0.0000            6.94s\n",
      "        70           0.1941           0.0000            5.82s\n",
      "        80           0.1929          -0.0000            4.66s\n",
      "        90           0.1926           0.0000            3.48s\n",
      "       100           0.1926          -0.0000            2.29s\n",
      "[CV]  learning_rate=0.05, n_estimators=120, subsample=0.75, score=-0.446388 -  13.8s\n",
      "[CV] learning_rate=0.05, n_estimators=120, subsample=0.75 ............\n",
      "      Iter       Train Loss      OOB Improve   Remaining Time \n",
      "         1           0.2773           0.0083           13.82s\n",
      "         2           0.2699           0.0076           14.40s\n",
      "         3           0.2621           0.0068           14.28s\n",
      "         4           0.2566           0.0061           14.92s\n",
      "         5           0.2499           0.0056           14.59s\n",
      "         6           0.2441           0.0051           14.58s\n",
      "         7           0.2394           0.0046           14.36s\n",
      "         8           0.2373           0.0041           14.25s\n",
      "         9           0.2337           0.0037           14.16s\n",
      "        10           0.2288           0.0034           14.01s\n",
      "        20           0.2084           0.0012           12.63s\n",
      "        30           0.1994           0.0005           11.03s\n",
      "        40           0.1964           0.0002            9.74s\n",
      "        50           0.1959           0.0000            8.48s\n",
      "        60           0.1961           0.0000            7.20s\n",
      "        70           0.1959           0.0000            5.98s\n",
      "        80           0.1946           0.0000            4.77s\n",
      "        90           0.1943          -0.0000            3.58s\n",
      "       100           0.1946          -0.0000            2.38s\n",
      "[CV]  learning_rate=0.05, n_estimators=120, subsample=0.75, score=-0.438883 -  14.3s\n",
      "[CV] learning_rate=0.05, n_estimators=120, subsample=0.75 ............\n",
      "      Iter       Train Loss      OOB Improve   Remaining Time \n",
      "         1           0.2781           0.0084           15.36s\n",
      "         2           0.2714           0.0077           16.03s\n",
      "         3           0.2638           0.0069           15.56s\n",
      "         4           0.2573           0.0061           15.15s\n",
      "         5           0.2523           0.0055           14.80s\n",
      "         6           0.2461           0.0050           14.61s\n",
      "         7           0.2419           0.0046           14.29s\n",
      "         8           0.2376           0.0042           14.04s\n",
      "         9           0.2338           0.0038           13.62s\n",
      "        10           0.2292           0.0034           13.67s\n",
      "        20           0.2083           0.0012           11.93s\n",
      "        30           0.2002           0.0005           10.59s\n",
      "        40           0.1980           0.0002            9.39s\n",
      "        50           0.1972           0.0001            8.21s\n",
      "        60           0.1957           0.0000            7.04s\n",
      "        70           0.1961           0.0000            5.89s\n",
      "        80           0.1940          -0.0000            4.69s\n",
      "        90           0.1952          -0.0000            3.49s\n",
      "       100           0.1954          -0.0000            2.32s\n",
      "[CV]  learning_rate=0.05, n_estimators=120, subsample=0.75, score=-0.435945 -  14.0s\n",
      "[CV] learning_rate=0.05, n_estimators=120, subsample=0.75 ............\n",
      "      Iter       Train Loss      OOB Improve   Remaining Time \n",
      "         1           0.2773           0.0084           13.99s\n",
      "         2           0.2705           0.0075           14.94s\n",
      "         3           0.2627           0.0067           14.60s\n",
      "         4           0.2554           0.0063           15.03s\n",
      "         5           0.2502           0.0056           14.82s\n",
      "         6           0.2449           0.0050           14.68s\n",
      "         7           0.2402           0.0046           14.97s\n",
      "         8           0.2360           0.0041           14.95s\n",
      "         9           0.2324           0.0038           14.73s\n",
      "        10           0.2276           0.0035           14.59s\n",
      "        20           0.2073           0.0012           12.61s\n",
      "        30           0.1993           0.0005           11.23s\n",
      "        40           0.1971           0.0002            9.92s\n",
      "        50           0.1961           0.0000            8.53s\n",
      "        60           0.1950           0.0000            7.28s\n",
      "        70           0.1946          -0.0000            6.04s\n",
      "        80           0.1932          -0.0000            4.75s\n",
      "        90           0.1943          -0.0000            3.55s\n",
      "       100           0.1944           0.0000            2.36s\n",
      "[CV]  learning_rate=0.05, n_estimators=120, subsample=0.75, score=-0.440659 -  14.2s\n",
      "[CV] learning_rate=0.05, n_estimators=120, subsample=0.75 ............\n",
      "      Iter       Train Loss      OOB Improve   Remaining Time \n",
      "         1           0.2754           0.0082           15.84s\n",
      "         2           0.2669           0.0074           17.30s\n",
      "         3           0.2611           0.0065           16.47s\n",
      "         4           0.2526           0.0061           16.15s\n",
      "         5           0.2469           0.0055           15.81s\n",
      "         6           0.2418           0.0049           15.74s\n",
      "         7           0.2378           0.0045           15.33s\n",
      "         8           0.2322           0.0040           15.19s\n",
      "         9           0.2306           0.0037           14.87s\n",
      "        10           0.2258           0.0033           14.73s\n",
      "        20           0.2057           0.0013           12.71s\n",
      "        30           0.1966           0.0005           11.35s\n",
      "        40           0.1949           0.0002            9.97s\n",
      "        50           0.1934           0.0001            8.68s\n",
      "        60           0.1930          -0.0000            7.37s\n",
      "        70           0.1927           0.0000            6.15s\n",
      "        80           0.1916          -0.0000            4.88s\n",
      "        90           0.1923          -0.0000            3.63s\n",
      "       100           0.1919          -0.0000            2.43s\n",
      "[CV]  learning_rate=0.05, n_estimators=120, subsample=0.75, score=-0.449916 -  14.4s\n",
      "      Iter       Train Loss      OOB Improve   Remaining Time \n"
     ]
    },
    {
     "name": "stderr",
     "output_type": "stream",
     "text": [
      "[Parallel(n_jobs=1)]: Done  40 out of  40 | elapsed:  6.9min finished\n"
     ]
    },
    {
     "name": "stdout",
     "output_type": "stream",
     "text": [
      "         1           0.2780           0.0084           13.59s\n",
      "         2           0.2687           0.0077           13.82s\n",
      "         3           0.2623           0.0070           13.21s\n",
      "         4           0.2553           0.0063           12.68s\n",
      "         5           0.2497           0.0057           12.47s\n",
      "         6           0.2454           0.0051           12.11s\n",
      "         7           0.2405           0.0047           12.13s\n",
      "         8           0.2362           0.0041           11.98s\n",
      "         9           0.2325           0.0038           11.98s\n",
      "        10           0.2290           0.0035           11.97s\n",
      "        20           0.2080           0.0012           10.18s\n",
      "        30           0.1997           0.0005            8.22s\n",
      "        40           0.1973           0.0002            6.46s\n",
      "        50           0.1953           0.0001            4.80s\n",
      "        60           0.1955           0.0000            3.17s\n",
      "        70           0.1942           0.0000            1.58s\n",
      "        80           0.1946          -0.0000            0.00s\n",
      "Param grid:\n",
      "{'n_estimators': [50, 60, 70, 80, 90, 100, 110, 120], 'learning_rate': [0.05], 'subsample': [0.75]}\n",
      "Best Params:\n",
      "{'learning_rate': 0.05, 'n_estimators': 80, 'subsample': 0.75}\n",
      "Best CV Score:\n",
      "0.4423292301289182\n",
      "Best estimator:\n",
      "GradientBoostingRegressor(alpha=0.9, criterion='friedman_mse', init=None,\n",
      "             learning_rate=0.05, loss='ls', max_depth=3, max_features=None,\n",
      "             max_leaf_nodes=None, min_impurity_split=1e-07,\n",
      "             min_samples_leaf=1, min_samples_split=2,\n",
      "             min_weight_fraction_leaf=0.0, n_estimators=80, presort='auto',\n",
      "             random_state=2017, subsample=0.75, verbose=1,\n",
      "             warm_start=False)\n",
      "--- Stacker Trained: 261.75 minutes ---\n",
      "--- Submission Generated: 261.82 minutes ---\n"
     ]
    }
   ],
   "source": [
    "start_time = time.time()\n",
    "y_pred = ensemble.fit_predict(X=X_train, y=y_train, T=X_test)\n",
    "for i in range(len(y_pred)):\n",
    "    if y_pred[i] < 1.0:\n",
    "        y_pred[i] = 1.0\n",
    "    if y_pred[i] > 3.0:\n",
    "        y_pred[i] = 3.0\n",
    "#pd.DataFrame({'id': id_test, 'relevance': y_pred}).to_csv('submission_ensemble.csv', index=False)\n",
    "\n",
    "print('--- Submission Generated: %s minutes ---' % round(((time.time() - start_time) / 60), 2))"
   ]
  },
  {
   "cell_type": "raw",
   "metadata": {
    "collapsed": true
   },
   "source": [
    "pd.DataFrame({'id': id_test, 'relevance': y_pred}).to_csv('submission_ensemble.csv', index=False)"
   ]
  },
  {
   "cell_type": "code",
   "execution_count": 12,
   "metadata": {
    "collapsed": false
   },
   "outputs": [],
   "source": [
    "import os\n",
    "from sklearn.metrics import mean_squared_error, make_scorer\n",
    "\n",
    "def fmean_squared_error(ground_truth, predictions):\n",
    "    fmean_squared_error_ = mean_squared_error(ground_truth, predictions)**0.5\n",
    "    return fmean_squared_error_\n",
    "\n",
    "df_score = pd.read_csv(os.getcwd() + '/data/solution.csv', encoding=\"ISO-8859-1\")\n",
    "public_score = df_score[df_score.Usage == 'Public']\n",
    "private_score = df_score[df_score.Usage == 'Private']\n",
    "\n",
    "public_pred = pd.DataFrame({\"id\": list(id_test), \"relevance\": y_pred})\n",
    "public_pred = public_pred[df_score.Usage == 'Public']\n",
    "private_pred = pd.DataFrame({\"id\": list(id_test), \"relevance\": y_pred})\n",
    "private_pred = private_pred[df_score.Usage == 'Private']"
   ]
  },
  {
   "cell_type": "code",
   "execution_count": 13,
   "metadata": {
    "collapsed": false
   },
   "outputs": [
    {
     "data": {
      "text/plain": [
       "('public score: ', 0.45183217401848913, 'private score: ', 0.45111671459846481)"
      ]
     },
     "execution_count": 13,
     "metadata": {},
     "output_type": "execute_result"
    }
   ],
   "source": [
    "'public score: ',fmean_squared_error(list(public_pred.relevance), list(public_score.relevance)), 'private score: ',fmean_squared_error(list(private_pred.relevance), list(private_score.relevance))"
   ]
  },
  {
   "cell_type": "code",
   "execution_count": 14,
   "metadata": {
    "collapsed": false
   },
   "outputs": [
    {
     "data": {
      "text/plain": [
       "array([ 2.15673279,  2.12808402,  2.35362101, ...,  1.93183043,\n",
       "        2.52306935,  2.69263093])"
      ]
     },
     "execution_count": 14,
     "metadata": {},
     "output_type": "execute_result"
    }
   ],
   "source": [
    "y_pred"
   ]
  },
  {
   "cell_type": "code",
   "execution_count": null,
   "metadata": {
    "collapsed": true
   },
   "outputs": [],
   "source": []
  }
 ],
 "metadata": {
  "kernelspec": {
   "display_name": "Python 3",
   "language": "python",
   "name": "python3"
  },
  "language_info": {
   "codemirror_mode": {
    "name": "ipython",
    "version": 3
   },
   "file_extension": ".py",
   "mimetype": "text/x-python",
   "name": "python",
   "nbconvert_exporter": "python",
   "pygments_lexer": "ipython3",
   "version": "3.6.0"
  }
 },
 "nbformat": 4,
 "nbformat_minor": 2
}
