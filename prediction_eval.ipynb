{
 "cells": [
  {
   "cell_type": "markdown",
   "metadata": {},
   "source": [
    "## Set-up"
   ]
  },
  {
   "cell_type": "code",
   "execution_count": 2,
   "metadata": {
    "collapsed": true
   },
   "outputs": [],
   "source": [
    "import seaborn as sn\n",
    "import numpy as np\n",
    "import pandas as pd\n",
    "from sklearn.metrics import mean_squared_error\n",
    "from sklearn.decomposition import PCA\n",
    "from sklearn.ensemble import RandomForestRegressor, GradientBoostingRegressor\n",
    "from sklearn.neural_network import MLPRegressor\n",
    "import matplotlib.pyplot as plt"
   ]
  },
  {
   "cell_type": "markdown",
   "metadata": {},
   "source": [
    "## Data"
   ]
  },
  {
   "cell_type": "code",
   "execution_count": 12,
   "metadata": {
    "collapsed": true
   },
   "outputs": [],
   "source": [
    "train = pd.read_csv('data/merged_train_df.csv')\n",
    "test_w = pd.read_csv('data/merged_test_df.csv')\n",
    "test_ = test_w.drop('relevance', axis =1)\n",
    "solution = pd.read_csv('data/solution.csv')\n",
    "test_minus = pd.merge(test_,solution, on='id')\n",
    "test = test_minus[test_minus.relevance != -1]"
   ]
  },
  {
   "cell_type": "code",
   "execution_count": 4,
   "metadata": {
    "collapsed": true
   },
   "outputs": [],
   "source": [
    "# Features \n",
    "features = list(train)\n",
    "for i in ['search_term_id','id','relevance']:\n",
    "    features.remove(i)\n",
    "test_features = list(test)\n",
    "for i in ['search_term_id','id','relevance','Usage']:\n",
    "    test_features.remove(i)\n",
    "    "
   ]
  },
  {
   "cell_type": "markdown",
   "metadata": {},
   "source": [
    "# Baseline Model"
   ]
  },
  {
   "cell_type": "code",
   "execution_count": 5,
   "metadata": {},
   "outputs": [
    {
     "data": {
      "text/plain": [
       "GradientBoostingRegressor(alpha=0.33, criterion='friedman_mse', init=None,\n",
       "             learning_rate=0.025, loss='huber', max_depth=5,\n",
       "             max_features=None, max_leaf_nodes=None,\n",
       "             min_impurity_split=1e-07, min_samples_leaf=1,\n",
       "             min_samples_split=2, min_weight_fraction_leaf=0.0,\n",
       "             n_estimators=500, presort='auto', random_state=None,\n",
       "             subsample=1.0, verbose=0, warm_start=False)"
      ]
     },
     "execution_count": 5,
     "metadata": {},
     "output_type": "execute_result"
    }
   ],
   "source": [
    "gb = GradientBoostingRegressor(n_estimators= 500 ,max_depth= 5, learning_rate= 0.025, loss='huber',alpha = 0.33)\n",
    "gb.fit(train[features],train['relevance'])\n"
   ]
  },
  {
   "cell_type": "code",
   "execution_count": 6,
   "metadata": {},
   "outputs": [
    {
     "name": "stdout",
     "output_type": "stream",
     "text": [
      ">> Baseline Result for Gradient Boosting Regressor <<\n",
      "RMSE:  0.463070823424\n"
     ]
    }
   ],
   "source": [
    "gb_pred = gb.predict(test[test_features])\n",
    "print('>> Baseline Result for Gradient Boosting Regressor <<')\n",
    "print('RMSE: ',mean_squared_error(test['relevance'], gb_pred)**0.5)\n"
   ]
  },
  {
   "cell_type": "code",
   "execution_count": 7,
   "metadata": {},
   "outputs": [
    {
     "data": {
      "text/plain": [
       "RandomForestRegressor(bootstrap=True, criterion='mse', max_depth=10,\n",
       "           max_features='auto', max_leaf_nodes=None,\n",
       "           min_impurity_split=1e-07, min_samples_leaf=1,\n",
       "           min_samples_split=2, min_weight_fraction_leaf=0.0,\n",
       "           n_estimators=70, n_jobs=1, oob_score=False, random_state=2,\n",
       "           verbose=0, warm_start=False)"
      ]
     },
     "execution_count": 7,
     "metadata": {},
     "output_type": "execute_result"
    }
   ],
   "source": [
    "rf = RandomForestRegressor(n_estimators=70, max_depth=10, random_state=2)\n",
    "rf.fit(train[features],train['relevance'])\n"
   ]
  },
  {
   "cell_type": "code",
   "execution_count": 8,
   "metadata": {},
   "outputs": [
    {
     "name": "stdout",
     "output_type": "stream",
     "text": [
      ">> Baseline Result for Random Forest Regressor <<\n",
      "RMSE:  0.459279017726\n"
     ]
    }
   ],
   "source": [
    "rf_pred = rf.predict(test[test_features])\n",
    "print('>> Baseline Result for Random Forest Regressor <<')\n",
    "print('RMSE: ',mean_squared_error(test['relevance'], rf_pred)**0.5)\n"
   ]
  },
  {
   "cell_type": "markdown",
   "metadata": {},
   "source": [
    "## MLP Regressor"
   ]
  },
  {
   "cell_type": "code",
   "execution_count": 32,
   "metadata": {
    "collapsed": true
   },
   "outputs": [],
   "source": [
    "rf_ = RandomForestRegressor(n_estimators=15, max_depth=5, random_state=1)\n",
    "rf_.fit(train[features], train['relevance'])\n",
    "\n",
    "cut_off_point = 0.01 # CAN BE CHANGED INTO ANY NUMBER\n",
    "\n",
    "feat_import = rf_.feature_importances_\n",
    "indices = np.argsort(feat_import)[::-1]\n",
    "selected_feat = [] # SELECTED FEATURES LIST\n",
    "for i in indices:\n",
    "    if feat_import[i] > cut_off_point:\n",
    "        selected_feat.append(features[i])"
   ]
  },
  {
   "cell_type": "code",
   "execution_count": 55,
   "metadata": {
    "collapsed": true
   },
   "outputs": [],
   "source": [
    "mlp = MLPRegressor(hidden_layer_sizes=(2000,10), activation='relu', solver='adam', alpha=0.0001, \\\n",
    "                   batch_size='auto', learning_rate='adaptive', learning_rate_init=0.001, power_t=0.5, \\\n",
    "                   max_iter=1000, shuffle=True, random_state= 2 ,verbose=False, warm_start=False, \\\n",
    "                   momentum=0.9, nesterovs_momentum=True, early_stopping= False, validation_fraction=0.4, \\\n",
    "                   beta_1=0.1, beta_2=0.999, epsilon=1e-08)\n"
   ]
  },
  {
   "cell_type": "code",
   "execution_count": 56,
   "metadata": {
    "scrolled": true
   },
   "outputs": [
    {
     "data": {
      "text/plain": [
       "MLPRegressor(activation='relu', alpha=0.0001, batch_size='auto', beta_1=0.1,\n",
       "       beta_2=0.999, early_stopping=False, epsilon=1e-08,\n",
       "       hidden_layer_sizes=(1000, 10), learning_rate='adaptive',\n",
       "       learning_rate_init=0.001, max_iter=100, momentum=0.9,\n",
       "       nesterovs_momentum=True, power_t=0.5, random_state=2, shuffle=True,\n",
       "       solver='adam', tol=0.0001, validation_fraction=0.4, verbose=False,\n",
       "       warm_start=False)"
      ]
     },
     "execution_count": 56,
     "metadata": {},
     "output_type": "execute_result"
    }
   ],
   "source": [
    "mlp.fit(train[selected_feat],train['relevance'])\n"
   ]
  },
  {
   "cell_type": "code",
   "execution_count": 57,
   "metadata": {
    "scrolled": true
   },
   "outputs": [
    {
     "name": "stdout",
     "output_type": "stream",
     "text": [
      ">> Baseline Result for MLP Regressor <<\n",
      "RMSE:  0.53527202949\n"
     ]
    }
   ],
   "source": [
    "mlp_pred = mlp.predict(test[selected_feat])\n",
    "print('>> Baseline Result for MLP Regressor <<')\n",
    "print('RMSE: ',mean_squared_error(test['relevance'], mlp_pred)**0.5)\n"
   ]
  },
  {
   "cell_type": "markdown",
   "metadata": {},
   "source": [
    "# Evaluation Results"
   ]
  },
  {
   "cell_type": "code",
   "execution_count": 58,
   "metadata": {},
   "outputs": [
    {
     "data": {
      "image/png": "[encoded data removed]",
      "text/plain": [
       "<matplotlib.figure.Figure at 0x11a7fa0f0>"
      ]
     },
     "metadata": {},
     "output_type": "display_data"
    }
   ],
   "source": [
    "fig, ax = plt.subplots()\n",
    "ax.hist(test['relevance'],bins = 10,label='True')\n",
    "ax.hist(gb_pred,bins = 10,label='GB Predicted')\n",
    "ax.hist(rf_pred,bins = 10,label='RF Predicted')\n",
    "ax.hist(mlp_pred,bins = 10,label='MLP Predicted')\n",
    "ax.set_ylabel('Number of Observations',fontsize=16)\n",
    "ax.set_xlabel('Relevance Score',fontsize=16)\n",
    "plt.legend()\n",
    "plt.show()\n",
    "fig.savefig('deep_learning_model/reports/fig/predicted_dist.png')"
   ]
  },
  {
   "cell_type": "raw",
   "metadata": {
    "collapsed": true
   },
   "source": [
    "downsize = train[train['relevance'] == 2.3300000000000001].sample(frac = 0.5,random_state=3)\n",
    "downsize = pd.concat([downsize, train[train['relevance'] == 2.6699999999999999].sample(frac = 0.5,random_state=3),\\\n",
    "                      train[train['relevance'] == 3.0].sample(frac = 0.5,random_state=3),\\\n",
    "                      train[train['relevance'] == 2.0].sample(frac = 0.5,random_state=3),\\\n",
    "                     train[train['relevance'] == 1.6699999999999999].sample(frac = 0.6,random_state=3)]\\\n",
    "                     ,axis = 0)\n",
    "rest_1 = train.loc[train['relevance'] != 2.3300000000000001]\n",
    "rest_1_ = rest_1.loc[rest_1['relevance'] != 1.6699999999999999]\n",
    "rest_2 = rest_1_.loc[rest_1_['relevance'] != 2.6699999999999999]\n",
    "rest_3 = rest_2.loc[rest_1['relevance'] != 3.0]\n",
    "rest_data = rest_3.loc[rest_3['relevance'] != 2.0]\n",
    "\n",
    "down_train = pd.concat([rest_data, downsize], 0)\n",
    "down_train.to_csv('data/down_train.csv',index = False)"
   ]
  },
  {
   "cell_type": "code",
   "execution_count": 20,
   "metadata": {
    "collapsed": true
   },
   "outputs": [],
   "source": [
    "down_train = pd.read_csv('data/down_train.csv')"
   ]
  },
  {
   "cell_type": "code",
   "execution_count": 21,
   "metadata": {},
   "outputs": [
    {
     "name": "stdout",
     "output_type": "stream",
     "text": [
      ">> Down-sampling Result for Gradient Boosting Regressor <<\n",
      "RMSE:  0.468010806589\n"
     ]
    }
   ],
   "source": [
    "gb_down = GradientBoostingRegressor(n_estimators= 500 ,max_depth= 5, learning_rate= 0.025, loss='huber',alpha = 0.33)\n",
    "gb_down.fit(down_train[features],down_train['relevance'])\n",
    "gb_down_pred = gb_down.predict(test[test_features])\n",
    "print('>> Down-sampling Result for Gradient Boosting Regressor <<')\n",
    "print('RMSE: ',mean_squared_error(test['relevance'], gb_down_pred)**0.5)"
   ]
  },
  {
   "cell_type": "code",
   "execution_count": 59,
   "metadata": {},
   "outputs": [
    {
     "name": "stdout",
     "output_type": "stream",
     "text": [
      ">> Down-sampling Result for Random Forest Regressor <<\n",
      "RMSE:  0.464927204376\n"
     ]
    }
   ],
   "source": [
    "rf_down = RandomForestRegressor(n_estimators=70, max_depth=10, random_state=2)\n",
    "rf_down.fit(down_train[features],down_train['relevance'])\n",
    "rf_down_pred = rf_down.predict(test[test_features])\n",
    "print('>> Down-sampling Result for Random Forest Regressor <<')\n",
    "print('RMSE: ',mean_squared_error(test['relevance'], rf_down_pred)**0.5)"
   ]
  },
  {
   "cell_type": "code",
   "execution_count": 84,
   "metadata": {},
   "outputs": [
    {
     "data": {
      "text/plain": [
       "MLPRegressor(activation='relu', alpha=0.0001, batch_size='auto', beta_1=0.1,\n",
       "       beta_2=0.999, early_stopping=False, epsilon=1e-08,\n",
       "       hidden_layer_sizes=(2000, 10), learning_rate='adaptive',\n",
       "       learning_rate_init=0.001, max_iter=1000, momentum=0.9,\n",
       "       nesterovs_momentum=True, power_t=0.5, random_state=2, shuffle=True,\n",
       "       solver='adam', tol=0.0001, validation_fraction=0.4, verbose=False,\n",
       "       warm_start=False)"
      ]
     },
     "execution_count": 84,
     "metadata": {},
     "output_type": "execute_result"
    }
   ],
   "source": [
    "mlp_down = MLPRegressor(hidden_layer_sizes=(2000,10), activation='relu', solver='adam', alpha=0.0001, \\\n",
    "                   batch_size='auto', learning_rate='adaptive', learning_rate_init=0.001, power_t=0.5, \\\n",
    "                   max_iter=1000, shuffle=True, random_state= 2 ,verbose=False, warm_start=False, \\\n",
    "                   momentum=0.9, nesterovs_momentum=True, early_stopping= False, validation_fraction=0.4, \\\n",
    "                   beta_1=0.1, beta_2=0.999, epsilon=1e-08)\n",
    "\n",
    "mlp_down.fit(down_train[selected_feat],down_train['relevance'])"
   ]
  },
  {
   "cell_type": "code",
   "execution_count": 109,
   "metadata": {},
   "outputs": [
    {
     "name": "stdout",
     "output_type": "stream",
     "text": [
      ">> Down-sampling Result for MLP Regressor <<\n",
      "RMSE:  0.542443670566\n"
     ]
    }
   ],
   "source": [
    "mlp_down_pred = mlp_down.predict(test[selected_feat])\n",
    "print('>> Down-sampling Result for MLP Regressor <<')\n",
    "print('RMSE: ',mean_squared_error(test['relevance'], mlp_down_pred)**0.5)"
   ]
  },
  {
   "cell_type": "code",
   "execution_count": 87,
   "metadata": {},
   "outputs": [
    {
     "data": {
      "image/png": "[encoded data removed]",
      "text/plain": [
       "<matplotlib.figure.Figure at 0x11a7a6c18>"
      ]
     },
     "metadata": {},
     "output_type": "display_data"
    }
   ],
   "source": [
    "fig, ax = plt.subplots()\n",
    "ax.hist(test['relevance'],bins = 10,label='True')\n",
    "ax.hist(gb_down_pred,bins = 10,label='GB Predicted')\n",
    "ax.hist(rf_down_pred,bins = 10,label='RF Predicted')\n",
    "ax.hist(mlp_down_pred,bins = 10,label='MLP Predicted')\n",
    "ax.set_ylabel('Number of Observations',fontsize=16)\n",
    "ax.set_xlabel('Relevance Score',fontsize=16)\n",
    "plt.legend()\n",
    "plt.show()\n",
    "fig.savefig('deep_learning_model/reports/fig/predicted_balanced_dist.png')"
   ]
  },
  {
   "cell_type": "markdown",
   "metadata": {},
   "source": [
    "# Stack Result"
   ]
  },
  {
   "cell_type": "code",
   "execution_count": 100,
   "metadata": {
    "collapsed": true
   },
   "outputs": [],
   "source": [
    "from sklearn.model_selection import cross_val_score, train_test_split, GridSearchCV\n",
    "X_train, X_test, y_train, y_test = train_test_split(train[features],train['relevance'],test_size=0.2, random_state=1)"
   ]
  },
  {
   "cell_type": "code",
   "execution_count": 101,
   "metadata": {},
   "outputs": [
    {
     "name": "stdout",
     "output_type": "stream",
     "text": [
      "RMSE:  0.456836177136\n"
     ]
    }
   ],
   "source": [
    "gb_stack = GradientBoostingRegressor(n_estimators= 500 ,max_depth= 5, learning_rate= 0.025, loss='huber',alpha = 0.33)\n",
    "gb_stack.fit(X_train,y_train)\n",
    "gb_pred_ = gb_stack.predict(X_test)\n",
    "print('RMSE: ',mean_squared_error(y_test, gb_pred_)**0.5)"
   ]
  },
  {
   "cell_type": "code",
   "execution_count": 102,
   "metadata": {},
   "outputs": [
    {
     "name": "stdout",
     "output_type": "stream",
     "text": [
      "RMSE:  0.45198395725\n"
     ]
    }
   ],
   "source": [
    "rf_stack = RandomForestRegressor(n_estimators=70, max_depth=10, random_state=2)\n",
    "rf_stack.fit(X_train,y_train)\n",
    "rf_pred_ = rf_stack.predict(X_test)\n",
    "print('RMSE: ',mean_squared_error(y_test, rf_pred_)**0.5)"
   ]
  },
  {
   "cell_type": "code",
   "execution_count": 103,
   "metadata": {},
   "outputs": [
    {
     "data": {
      "text/html": [
       "<table class=\"simpletable\">\n",
       "<caption>OLS Regression Results</caption>\n",
       "<tr>\n",
       "  <th>Dep. Variable:</th>          <td>true</td>       <th>  R-squared:         </th> <td>   0.289</td> \n",
       "</tr>\n",
       "<tr>\n",
       "  <th>Model:</th>                   <td>OLS</td>       <th>  Adj. R-squared:    </th> <td>   0.289</td> \n",
       "</tr>\n",
       "<tr>\n",
       "  <th>Method:</th>             <td>Least Squares</td>  <th>  F-statistic:       </th> <td>   3009.</td> \n",
       "</tr>\n",
       "<tr>\n",
       "  <th>Date:</th>             <td>Wed, 19 Apr 2017</td> <th>  Prob (F-statistic):</th>  <td>  0.00</td>  \n",
       "</tr>\n",
       "<tr>\n",
       "  <th>Time:</th>                 <td>09:22:37</td>     <th>  Log-Likelihood:    </th> <td> -9199.9</td> \n",
       "</tr>\n",
       "<tr>\n",
       "  <th>No. Observations:</th>      <td> 14814</td>      <th>  AIC:               </th> <td>1.841e+04</td>\n",
       "</tr>\n",
       "<tr>\n",
       "  <th>Df Residuals:</th>          <td> 14811</td>      <th>  BIC:               </th> <td>1.843e+04</td>\n",
       "</tr>\n",
       "<tr>\n",
       "  <th>Df Model:</th>              <td>     2</td>      <th>                     </th>     <td> </td>    \n",
       "</tr>\n",
       "<tr>\n",
       "  <th>Covariance Type:</th>      <td>nonrobust</td>    <th>                     </th>     <td> </td>    \n",
       "</tr>\n",
       "</table>\n",
       "<table class=\"simpletable\">\n",
       "<tr>\n",
       "      <td></td>         <th>coef</th>     <th>std err</th>      <th>t</th>      <th>P>|t|</th>  <th>[0.025</th>    <th>0.975]</th>  \n",
       "</tr>\n",
       "<tr>\n",
       "  <th>Intercept</th> <td>    0.0587</td> <td>    0.036</td> <td>    1.617</td> <td> 0.106</td> <td>   -0.012</td> <td>    0.130</td>\n",
       "</tr>\n",
       "<tr>\n",
       "  <th>gb</th>        <td>    0.5018</td> <td>    0.050</td> <td>   10.125</td> <td> 0.000</td> <td>    0.405</td> <td>    0.599</td>\n",
       "</tr>\n",
       "<tr>\n",
       "  <th>rf</th>        <td>    0.4610</td> <td>    0.059</td> <td>    7.791</td> <td> 0.000</td> <td>    0.345</td> <td>    0.577</td>\n",
       "</tr>\n",
       "</table>\n",
       "<table class=\"simpletable\">\n",
       "<tr>\n",
       "  <th>Omnibus:</th>       <td>535.786</td> <th>  Durbin-Watson:     </th> <td>   2.014</td> \n",
       "</tr>\n",
       "<tr>\n",
       "  <th>Prob(Omnibus):</th> <td> 0.000</td>  <th>  Jarque-Bera (JB):  </th> <td> 594.823</td> \n",
       "</tr>\n",
       "<tr>\n",
       "  <th>Skew:</th>          <td>-0.488</td>  <th>  Prob(JB):          </th> <td>6.85e-130</td>\n",
       "</tr>\n",
       "<tr>\n",
       "  <th>Kurtosis:</th>      <td> 3.102</td>  <th>  Cond. No.          </th> <td>    77.1</td> \n",
       "</tr>\n",
       "</table>"
      ],
      "text/plain": [
       "<class 'statsmodels.iolib.summary.Summary'>\n",
       "\"\"\"\n",
       "                            OLS Regression Results                            \n",
       "==============================================================================\n",
       "Dep. Variable:                   true   R-squared:                       0.289\n",
       "Model:                            OLS   Adj. R-squared:                  0.289\n",
       "Method:                 Least Squares   F-statistic:                     3009.\n",
       "Date:                Wed, 19 Apr 2017   Prob (F-statistic):               0.00\n",
       "Time:                        09:22:37   Log-Likelihood:                -9199.9\n",
       "No. Observations:               14814   AIC:                         1.841e+04\n",
       "Df Residuals:                   14811   BIC:                         1.843e+04\n",
       "Df Model:                           2                                         \n",
       "Covariance Type:            nonrobust                                         \n",
       "==============================================================================\n",
       "                 coef    std err          t      P>|t|      [0.025      0.975]\n",
       "------------------------------------------------------------------------------\n",
       "Intercept      0.0587      0.036      1.617      0.106      -0.012       0.130\n",
       "gb             0.5018      0.050     10.125      0.000       0.405       0.599\n",
       "rf             0.4610      0.059      7.791      0.000       0.345       0.577\n",
       "==============================================================================\n",
       "Omnibus:                      535.786   Durbin-Watson:                   2.014\n",
       "Prob(Omnibus):                  0.000   Jarque-Bera (JB):              594.823\n",
       "Skew:                          -0.488   Prob(JB):                    6.85e-130\n",
       "Kurtosis:                       3.102   Cond. No.                         77.1\n",
       "==============================================================================\n",
       "\n",
       "Warnings:\n",
       "[1] Standard Errors assume that the covariance matrix of the errors is correctly specified.\n",
       "\"\"\""
      ]
     },
     "execution_count": 103,
     "metadata": {},
     "output_type": "execute_result"
    }
   ],
   "source": [
    "import statsmodels.formula.api as sm\n",
    "stack_df = pd.DataFrame({'gb':gb_pred_,'rf':rf_pred_,'true':y_test})\n",
    "result = sm.ols(formula=\" true~ gb + rf\", data=stack_df).fit()\n",
    "result.summary()"
   ]
  },
  {
   "cell_type": "code",
   "execution_count": 112,
   "metadata": {},
   "outputs": [
    {
     "name": "stdout",
     "output_type": "stream",
     "text": [
      "RMSE:  0.458278658166\n"
     ]
    }
   ],
   "source": [
    "stack_pred = 0.54*gb_pred + 0.46*rf_pred\n",
    "print('RMSE: ',mean_squared_error(test['relevance'], stack_pred)**0.5)"
   ]
  },
  {
   "cell_type": "code",
   "execution_count": 3,
   "metadata": {
    "collapsed": true
   },
   "outputs": [],
   "source": [
    "model_df = pd.read_csv('data/prediction_result.csv')"
   ]
  },
  {
   "cell_type": "code",
   "execution_count": 9,
   "metadata": {
    "collapsed": true
   },
   "outputs": [],
   "source": [
    "var = list(model_df)\n",
    "for i in ['search_term_id','id','relevance']:\n",
    "    var.remove(i)"
   ]
  },
  {
   "cell_type": "code",
   "execution_count": 76,
   "metadata": {
    "scrolled": true
   },
   "outputs": [
    {
     "data": {
      "image/png": "[encoded data removed]",
      "text/plain": [
       "<matplotlib.figure.Figure at 0x10f3a7080>"
      ]
     },
     "metadata": {},
     "output_type": "display_data"
    }
   ],
   "source": [
    "fig, ax = plt.subplots()\n",
    "ax.boxplot([model_df.y_pred_AB,model_df.y_pred_ABbagging, model_df.y_pred_ET,\\\n",
    "             model_df.y_pred_ETbagging,model_df.y_pred_GB,model_df.y_pred_GBbagging,model_df.y_pred_rf,\\\n",
    "             model_df.y_pred_rfbagging,model_df.y_pred_xgb,model_df.y_pred_xgbbagging,test['relevance']])\n",
    "plt.xticks([1, 2, 3,4,5,6,7,8,9,10,11], ['AB', 'ABbag', 'ET','ETbag','GB','GBbag','RF','RF_bag','xgb','xgbbag','True'])\n",
    "plt.ylabel('Relevance Scores', fontsize = 14)\n",
    "plt.xlabel('Predicted Values from Each Model',fontsize=14)\n",
    "plt.show()\n",
    "fig.savefig('individual_report-Fran/fig/all_predicted.png')"
   ]
  },
  {
   "cell_type": "code",
   "execution_count": 80,
   "metadata": {},
   "outputs": [
    {
     "data": {
      "text/html": [
       "<table class=\"simpletable\">\n",
       "<caption>OLS Regression Results</caption>\n",
       "<tr>\n",
       "  <th>Dep. Variable:</th>        <td>relevance</td>    <th>  R-squared:         </th> <td>   0.279</td> \n",
       "</tr>\n",
       "<tr>\n",
       "  <th>Model:</th>                   <td>OLS</td>       <th>  Adj. R-squared:    </th> <td>   0.279</td> \n",
       "</tr>\n",
       "<tr>\n",
       "  <th>Method:</th>             <td>Least Squares</td>  <th>  F-statistic:       </th> <td>   8688.</td> \n",
       "</tr>\n",
       "<tr>\n",
       "  <th>Date:</th>             <td>Thu, 20 Apr 2017</td> <th>  Prob (F-statistic):</th>  <td>  0.00</td>  \n",
       "</tr>\n",
       "<tr>\n",
       "  <th>Time:</th>                 <td>10:17:28</td>     <th>  Log-Likelihood:    </th> <td> -70620.</td> \n",
       "</tr>\n",
       "<tr>\n",
       "  <th>No. Observations:</th>      <td>112067</td>      <th>  AIC:               </th> <td>1.413e+05</td>\n",
       "</tr>\n",
       "<tr>\n",
       "  <th>Df Residuals:</th>          <td>112061</td>      <th>  BIC:               </th> <td>1.413e+05</td>\n",
       "</tr>\n",
       "<tr>\n",
       "  <th>Df Model:</th>              <td>     5</td>      <th>                     </th>     <td> </td>    \n",
       "</tr>\n",
       "<tr>\n",
       "  <th>Covariance Type:</th>      <td>nonrobust</td>    <th>                     </th>     <td> </td>    \n",
       "</tr>\n",
       "</table>\n",
       "<table class=\"simpletable\">\n",
       "<tr>\n",
       "      <td></td>         <th>coef</th>     <th>std err</th>      <th>t</th>      <th>P>|t|</th>  <th>[0.025</th>    <th>0.975]</th>  \n",
       "</tr>\n",
       "<tr>\n",
       "  <th>Intercept</th> <td>   -0.0525</td> <td>    0.021</td> <td>   -2.543</td> <td> 0.011</td> <td>   -0.093</td> <td>   -0.012</td>\n",
       "</tr>\n",
       "<tr>\n",
       "  <th>abb</th>       <td>    0.0055</td> <td>    0.025</td> <td>    0.215</td> <td> 0.830</td> <td>   -0.044</td> <td>    0.055</td>\n",
       "</tr>\n",
       "<tr>\n",
       "  <th>gb</th>        <td>    0.4175</td> <td>    0.035</td> <td>   11.960</td> <td> 0.000</td> <td>    0.349</td> <td>    0.486</td>\n",
       "</tr>\n",
       "<tr>\n",
       "  <th>rf</th>        <td>    0.0244</td> <td>    0.033</td> <td>    0.743</td> <td> 0.457</td> <td>   -0.040</td> <td>    0.089</td>\n",
       "</tr>\n",
       "<tr>\n",
       "  <th>et</th>        <td>    0.3242</td> <td>    0.018</td> <td>   17.768</td> <td> 0.000</td> <td>    0.288</td> <td>    0.360</td>\n",
       "</tr>\n",
       "<tr>\n",
       "  <th>xgb</th>       <td>    0.2525</td> <td>    0.039</td> <td>    6.509</td> <td> 0.000</td> <td>    0.176</td> <td>    0.328</td>\n",
       "</tr>\n",
       "</table>\n",
       "<table class=\"simpletable\">\n",
       "<tr>\n",
       "  <th>Omnibus:</th>       <td>4249.807</td> <th>  Durbin-Watson:     </th> <td>   1.971</td>\n",
       "</tr>\n",
       "<tr>\n",
       "  <th>Prob(Omnibus):</th>  <td> 0.000</td>  <th>  Jarque-Bera (JB):  </th> <td>4752.108</td>\n",
       "</tr>\n",
       "<tr>\n",
       "  <th>Skew:</th>           <td>-0.504</td>  <th>  Prob(JB):          </th> <td>    0.00</td>\n",
       "</tr>\n",
       "<tr>\n",
       "  <th>Kurtosis:</th>       <td> 3.059</td>  <th>  Cond. No.          </th> <td>    199.</td>\n",
       "</tr>\n",
       "</table>"
      ],
      "text/plain": [
       "<class 'statsmodels.iolib.summary.Summary'>\n",
       "\"\"\"\n",
       "                            OLS Regression Results                            \n",
       "==============================================================================\n",
       "Dep. Variable:              relevance   R-squared:                       0.279\n",
       "Model:                            OLS   Adj. R-squared:                  0.279\n",
       "Method:                 Least Squares   F-statistic:                     8688.\n",
       "Date:                Thu, 20 Apr 2017   Prob (F-statistic):               0.00\n",
       "Time:                        10:17:28   Log-Likelihood:                -70620.\n",
       "No. Observations:              112067   AIC:                         1.413e+05\n",
       "Df Residuals:                  112061   BIC:                         1.413e+05\n",
       "Df Model:                           5                                         \n",
       "Covariance Type:            nonrobust                                         \n",
       "==============================================================================\n",
       "                 coef    std err          t      P>|t|      [0.025      0.975]\n",
       "------------------------------------------------------------------------------\n",
       "Intercept     -0.0525      0.021     -2.543      0.011      -0.093      -0.012\n",
       "abb            0.0055      0.025      0.215      0.830      -0.044       0.055\n",
       "gb             0.4175      0.035     11.960      0.000       0.349       0.486\n",
       "rf             0.0244      0.033      0.743      0.457      -0.040       0.089\n",
       "et             0.3242      0.018     17.768      0.000       0.288       0.360\n",
       "xgb            0.2525      0.039      6.509      0.000       0.176       0.328\n",
       "==============================================================================\n",
       "Omnibus:                     4249.807   Durbin-Watson:                   1.971\n",
       "Prob(Omnibus):                  0.000   Jarque-Bera (JB):             4752.108\n",
       "Skew:                          -0.504   Prob(JB):                         0.00\n",
       "Kurtosis:                       3.059   Cond. No.                         199.\n",
       "==============================================================================\n",
       "\n",
       "Warnings:\n",
       "[1] Standard Errors assume that the covariance matrix of the errors is correctly specified.\n",
       "\"\"\""
      ]
     },
     "execution_count": 80,
     "metadata": {},
     "output_type": "execute_result"
    }
   ],
   "source": [
    "import statsmodels.formula.api as sm\n",
    "stack_data = pd.DataFrame({'abb':model_df.y_pred_ABbagging,'gb':model_df.y_pred_GB,\\\n",
    "                          'rf':model_df.y_pred_rfbagging,'id':model_df.id,'et':model_df.y_pred_ET,'xgb':model_df.y_pred_xgb})\n",
    "test = pd.DataFrame({'relevance':test['relevance'], 'id':test['id']})\n",
    "sd = pd.merge(stack_data,test,on='id')\n",
    "result1 = sm.ols(formula=\" relevance~ abb + gb+rf+et+xgb\", data=sd).fit()\n",
    "result1.summary()"
   ]
  },
  {
   "cell_type": "code",
   "execution_count": 86,
   "metadata": {},
   "outputs": [
    {
     "name": "stdout",
     "output_type": "stream",
     "text": [
      "RMSE:  0.454453822945\n"
     ]
    }
   ],
   "source": [
    "sp =  0.42*model_df.y_pred_GB + 0.32*model_df.y_pred_ET+0.26*model_df.y_pred_xgb\n",
    "print('RMSE: ',mean_squared_error(test['relevance'], sp)**0.5)"
   ]
  }
 ],
 "metadata": {
  "kernelspec": {
   "display_name": "Python 3",
   "language": "python",
   "name": "python3"
  },
  "language_info": {
   "codemirror_mode": {
    "name": "ipython",
    "version": 3
   },
   "file_extension": ".py",
   "mimetype": "text/x-python",
   "name": "python",
   "nbconvert_exporter": "python",
   "pygments_lexer": "ipython3",
   "version": "3.5.3"
  }
 },
 "nbformat": 4,
 "nbformat_minor": 2
}
