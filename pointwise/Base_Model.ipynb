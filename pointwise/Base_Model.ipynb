{
 "cells": [
  {
   "cell_type": "markdown",
   "metadata": {},
   "source": [
    "## <font color='green'>Setup 0</font>: Envrionment Setup & Import Data"
   ]
  },
  {
   "cell_type": "code",
   "execution_count": 357,
   "metadata": {
    "collapsed": true
   },
   "outputs": [],
   "source": [
    "import warnings\n",
    "warnings.filterwarnings('ignore')\n",
    "import time\n",
    "import os\n",
    "import numpy as np\n",
    "import pandas as pd\n",
    "import pickle\n",
    "pd.options.display.max_columns = None\n",
    "pd.options.display.mpl_style = 'default'\n",
    "\n",
    "from sklearn.ensemble import RandomForestRegressor, BaggingRegressor, ExtraTreesRegressor,AdaBoostRegressor,GradientBoostingRegressor\n",
    "from sklearn.linear_model import Ridge, Lasso,ElasticNet,LinearRegression\n",
    "from sklearn.neural_network import MLPRegressor\n",
    "from sklearn import svm\n",
    "from sklearn.metrics import mean_squared_error, make_scorer,mean_absolute_error\n",
    "from  collections import Counter\n",
    "\n",
    "import matplotlib.pyplot as plt\n",
    "%matplotlib inline"
   ]
  },
  {
   "cell_type": "code",
   "execution_count": 358,
   "metadata": {
    "collapsed": true
   },
   "outputs": [],
   "source": [
    "PROCESSINGTEXT_DIR =  '../home_depot/data'\n",
    "df_train = pd.read_csv(PROCESSINGTEXT_DIR + '/merged_train_df.csv', encoding=\"ISO-8859-1\")\n",
    "df_test = pd.read_csv(PROCESSINGTEXT_DIR + '/merged_test_df.csv', encoding=\"ISO-8859-1\")"
   ]
  },
  {
   "cell_type": "markdown",
   "metadata": {},
   "source": [
    "## <font color='green'>Setup 1</font>: Define Train/Test Sets"
   ]
  },
  {
   "cell_type": "code",
   "execution_count": 360,
   "metadata": {
    "collapsed": true
   },
   "outputs": [],
   "source": [
    "df_test = df_test.drop('relevance',axis=1)\n",
    "df_score = pd.read_csv('../IRDM/data/solution.csv', encoding=\"ISO-8859-1\")\n",
    "df_test = pd.merge(df_test, df_score, on='id')\n",
    "df_test = df_test[df_test['Usage'] != 'Ignored']"
   ]
  },
  {
   "cell_type": "code",
   "execution_count": 473,
   "metadata": {
    "collapsed": true
   },
   "outputs": [],
   "source": [
    "test_count= Counter(df_test['search_term_id'])\n",
    "df_test['query_freq'] = df_test['search_term_id'].map(lambda x:test_count[x])"
   ]
  },
  {
   "cell_type": "code",
   "execution_count": 474,
   "metadata": {
    "collapsed": true
   },
   "outputs": [],
   "source": [
    "df_test_pair_wise = df_test[df_test['query_freq']>4]"
   ]
  },
  {
   "cell_type": "code",
   "execution_count": 363,
   "metadata": {
    "collapsed": true
   },
   "outputs": [],
   "source": [
    "id_test_pair_wise = df_test_pair_wise['id']\n",
    "search_term_id_test_pair_wise = df_test_pair_wise['search_term_id']\n",
    "\n",
    "y_test_pair_wise = df_test_pair_wise['relevance'].values\n",
    "\n",
    "X_test_pair_wise = df_test_pair_wise.drop(['id','relevance','Usage','query_freq'],axis=1).values"
   ]
  },
  {
   "cell_type": "code",
   "execution_count": 364,
   "metadata": {
    "collapsed": true
   },
   "outputs": [],
   "source": [
    "id_test = df_test['id']\n",
    "search_term_id_test = df_test['search_term_id']\n",
    "id_train = df_train['id']\n",
    "search_term_id_train = df_train['search_term_id']\n",
    "y_train = df_train['relevance'].values\n",
    "y_test = df_test['relevance'].values\n",
    "\n",
    "X_train = df_train.drop(['id','relevance','query_bullets_material_matching','query_decription_material_matching','query_brand_matching'],axis=1).values\n",
    "X_test = df_test.drop(['id','relevance','Usage','query_freq','query_bullets_material_matching','query_decription_material_matching','query_brand_matching'],axis=1).values"
   ]
  },
  {
   "cell_type": "markdown",
   "metadata": {},
   "source": [
    "## <font color='green'>Setup 2</font>: Construct the Model"
   ]
  },
  {
   "cell_type": "markdown",
   "metadata": {},
   "source": [
    "### sklearn.linear_model"
   ]
  },
  {
   "cell_type": "code",
   "execution_count": 365,
   "metadata": {},
   "outputs": [
    {
     "name": "stdout",
     "output_type": "stream",
     "text": [
      "model training time: 0.004 minutes\n",
      "\n",
      "predicting time: 0.001 minutes\n",
      "\n"
     ]
    }
   ],
   "source": [
    "clf_lr = LinearRegression(fit_intercept=True, normalize=True, copy_X=True, n_jobs=1)\n",
    "t = time.time()\n",
    "clf_lr.fit(X_train,y_train)\n",
    "print('model training time:',round((time.time()-t)/60,3) ,'minutes\\n')\n",
    "t = time.time()\n",
    "y_pred_lr = clf_lr.predict(X_test)\n",
    "y_pred_pair_wise_lr = clf_lr.predict(X_test_pair_wise)\n",
    "print('predicting time:',round((time.time()-t)/60,3) ,'minutes\\n')\n",
    "# public score:  0.467252897931   private score:  0.466536583211   average score:  0.466751771442"
   ]
  },
  {
   "cell_type": "code",
   "execution_count": 369,
   "metadata": {},
   "outputs": [
    {
     "name": "stdout",
     "output_type": "stream",
     "text": [
      "model training time: 0.08 minutes\n",
      "\n",
      "predicting time: 0.001 minutes\n",
      "\n"
     ]
    }
   ],
   "source": [
    "clf_lasso = Lasso(alpha=0.00001)\n",
    "t = time.time()\n",
    "clf_lasso.fit(X_train, y_train)\n",
    "print('model training time:',round((time.time()-t)/60,3) ,'minutes\\n')\n",
    "t = time.time()\n",
    "y_pred_lasso = clf_lasso.predict(X_test)\n",
    "y_pred_pair_wise_lasso = clf_lasso.predict(X_test_pair_wise)\n",
    "print('predicting time:',round((time.time()-t)/60,3) ,'minutes\\n')\n",
    "# public score:  0.467129328129   private score:  0.46644225209   average score:  0.466648652226"
   ]
  },
  {
   "cell_type": "code",
   "execution_count": 370,
   "metadata": {},
   "outputs": [
    {
     "name": "stdout",
     "output_type": "stream",
     "text": [
      "model training time: 0.002 minutes\n",
      "\n",
      "predicting time: 0.001 minutes\n",
      "\n"
     ]
    }
   ],
   "source": [
    "clf_ridge = Ridge(alpha=0.5)\n",
    "t = time.time()\n",
    "clf_ridge.fit(X_train, y_train)\n",
    "print('model training time:',round((time.time()-t)/60,3) ,'minutes\\n')\n",
    "t = time.time()\n",
    "y_pred_rige = clf_ridge.predict(X_test)\n",
    "y_pred_pair_wise_rige = clf_ridge.predict(X_test_pair_wise)\n",
    "print('predicting time:',round((time.time()-t)/60,3) ,'minutes\\n')\n",
    "# public score:  0.467147977456   private score:  0.466460599048   average score:  0.466667090059"
   ]
  },
  {
   "cell_type": "code",
   "execution_count": 371,
   "metadata": {},
   "outputs": [
    {
     "name": "stdout",
     "output_type": "stream",
     "text": [
      "model training time: 0.086 minutes\n",
      "\n",
      "predicting time: 0.001 minutes\n",
      "\n"
     ]
    }
   ],
   "source": [
    "clf_EN = ElasticNet(alpha=0.00001, l1_ratio=0.7)\n",
    "t = time.time()\n",
    "clf_EN.fit(X_train, y_train)\n",
    "print('model training time:',round((time.time()-t)/60,3) ,'minutes\\n')\n",
    "t = time.time()\n",
    "y_pred_EN = clf_EN.predict(X_test)\n",
    "y_pred_pair_wise_EN = clf_EN.predict(X_test_pair_wise)\n",
    "print('predicting time:',round((time.time()-t)/60,3) ,'minutes\\n')\n",
    "# public score:  0.467132273987   private score:  0.466447202556   average score:  0.46665300019"
   ]
  },
  {
   "cell_type": "markdown",
   "metadata": {},
   "source": [
    "### sklearn.neural_network"
   ]
  },
  {
   "cell_type": "markdown",
   "metadata": {},
   "source": [
    "### sklearn.ensemble"
   ]
  },
  {
   "cell_type": "code",
   "execution_count": 372,
   "metadata": {
    "collapsed": true
   },
   "outputs": [],
   "source": [
    "mingw_path = 'C:\\\\Program Files\\\\mingw-w64\\\\x86_64-6.3.0-posix-seh-rt_v5-rev1\\\\mingw64\\\\bin'\n",
    "os.environ['PATH'] = mingw_path + ';' + os.environ['PATH']\n",
    "import xgboost as xgb"
   ]
  },
  {
   "cell_type": "code",
   "execution_count": 373,
   "metadata": {
    "collapsed": true
   },
   "outputs": [],
   "source": [
    "clf_AB = pickle.load(open('clf_AB.sav','rb'))\n",
    "clf_rf = pickle.load(open('clf_rf.sav','rb'))\n",
    "clf_ET = pickle.load(open('clf_ET.sav','rb'))\n",
    "clf = pickle.load(open('clf.sav','rb'))\n",
    "clf_xgb = pickle.load(open('clf_xgb.sav','rb'))\n",
    "clf_ABbagging = pickle.load(open('clf_ABbagging.sav','rb'))\n",
    "clf_rfbagging = pickle.load(open('clf_rfbagging.sav','rb'))\n",
    "clf_ETbagging = pickle.load(open('clf_ETbagging.sav','rb'))\n",
    "clf_xgbbagging = pickle.load(open('clf_xgbbagging.sav','rb'))\n",
    "clf_svr = pickle.load(open('clf_svr.sav','rb'))"
   ]
  },
  {
   "cell_type": "code",
   "execution_count": 374,
   "metadata": {
    "collapsed": true
   },
   "outputs": [],
   "source": [
    "clf_GB = pickle.load(open('clf_GB.sav','rb'))\n",
    "clf_GBbagging = pickle.load(open('clf_GBbagging.sav','rb'))"
   ]
  },
  {
   "cell_type": "code",
   "execution_count": 375,
   "metadata": {},
   "outputs": [
    {
     "name": "stdout",
     "output_type": "stream",
     "text": [
      "predicting time: 0.038 minutes\n",
      "\n",
      "predicting time: 1.87 minutes\n",
      "\n"
     ]
    }
   ],
   "source": [
    "t = time.time()\n",
    "y_pred_AB = clf_AB.predict(X_test)\n",
    "y_pred_pair_wise_AB = clf_AB.predict(X_test_pair_wise)\n",
    "print('predicting time:',round((time.time()-t)/60,3) ,'minutes\\n')\n",
    "# public score:  0.47822394677   private score:  0.477928687053   average score:  0.478017357634\n",
    "\n",
    "t = time.time()\n",
    "y_pred_ABbagging = clf_ABbagging.predict(X_test)\n",
    "y_pred_pair_wise_ABbagging = clf_ABbagging.predict(X_test_pair_wise)\n",
    "print('predicting time:',round((time.time()-t)/60,3) ,'minutes\\n')\n",
    "# public score:  0.482595622317   private score:  0.482664808561   average score:  0.482644036505"
   ]
  },
  {
   "cell_type": "code",
   "execution_count": 376,
   "metadata": {},
   "outputs": [
    {
     "name": "stdout",
     "output_type": "stream",
     "text": [
      "predicting time: 0.085 minutes\n",
      "\n",
      "predicting time: 3.13 minutes\n",
      "\n"
     ]
    }
   ],
   "source": [
    "t = time.time()\n",
    "y_pred_rf = clf_rf.predict(X_test)\n",
    "y_pred_pair_wise_rf = clf_rf.predict(X_test_pair_wise)\n",
    "print('predicting time:',round((time.time()-t)/60,3) ,'minutes\\n')\n",
    "# public score:  0.459624923702   private score:  0.45949920384   average score:  0.459536954711\n",
    "\n",
    "t = time.time()\n",
    "y_pred_rfbagging = clf_rfbagging.predict(X_test)\n",
    "y_pred_pair_wise_rfbagging = clf_rfbagging.predict(X_test_pair_wise)\n",
    "print('predicting time:',round((time.time()-t)/60,3) ,'minutes\\n')\n",
    "# public score:  0.458506149542   private score:  0.458063795194   average score:  0.458196656488"
   ]
  },
  {
   "cell_type": "code",
   "execution_count": 377,
   "metadata": {},
   "outputs": [
    {
     "name": "stdout",
     "output_type": "stream",
     "text": [
      "predicting time: 0.29 minutes\n",
      "\n",
      "predicting time: 10.282 minutes\n",
      "\n"
     ]
    }
   ],
   "source": [
    "t = time.time()\n",
    "y_pred_ET = clf_ET.predict(X_test)\n",
    "y_pred_pair_wise_ET = clf_ET.predict(X_test_pair_wise)\n",
    "print('predicting time:',round((time.time()-t)/60,3) ,'minutes\\n')\n",
    "# public score:  0.458415690893   private score:  0.458139769673   average score:  0.458222632186\n",
    "\n",
    "t = time.time()\n",
    "y_pred_ETbagging = clf_ETbagging.predict(X_test)\n",
    "y_pred_pair_wise_ETbagging = clf_ETbagging.predict(X_test_pair_wise)\n",
    "print('predicting time:',round((time.time()-t)/60,3) ,'minutes\\n')\n",
    "# public score:  0.457843408244   private score:  0.457141823561   average score:  0.45735258669"
   ]
  },
  {
   "cell_type": "code",
   "execution_count": null,
   "metadata": {
    "collapsed": true
   },
   "outputs": [],
   "source": [
    "import pickle\n",
    "clf_GBbagging2 = pickle.load(open('clf_GBbagging2.sav','rb'))\n",
    "X_test2 = df_test.drop(['id','relevance','Usage','query_bullets_material_matching','query_decription_material_matching'],axis=1).values\n",
    "y_pred_GBbagging2 = clf_GBbagging2.predict(X_test2)"
   ]
  },
  {
   "cell_type": "code",
   "execution_count": 380,
   "metadata": {},
   "outputs": [
    {
     "name": "stdout",
     "output_type": "stream",
     "text": [
      "predicting time: 0.082 minutes\n",
      "\n",
      "predicting time: 3.217 minutes\n",
      "\n"
     ]
    }
   ],
   "source": [
    "t = time.time()\n",
    "y_pred_GB = clf_GB.predict(X_test)\n",
    "y_pred_pair_wise_GB = clf_GB.predict(X_test_pair_wise)\n",
    "print('predicting time:',round((time.time()-t)/60,3) ,'minutes\\n')\n",
    "# public score:  0.456267609619   private score:  0.4551328414   average score:  0.455473851368\n",
    "\n",
    "# t = time.time()\n",
    "# y_pred_GBbagging = clf_GBbagging.predict(X_test)\n",
    "# y_pred_pair_wise_GBbagging = clf_GBbagging.predict(X_test_pair_wise)\n",
    "# print('predicting time:',round((time.time()-t)/60,3) ,'minutes\\n')\n",
    "# # public score:  0.455671294414   private score:  0.454882006571   average score:  0.455119133218"
   ]
  },
  {
   "cell_type": "code",
   "execution_count": 18,
   "metadata": {},
   "outputs": [
    {
     "name": "stdout",
     "output_type": "stream",
     "text": [
      "[0]\teval-rmse:1.80999\n",
      "Will train until eval-rmse hasn't improved in 30 rounds.\n",
      "[1]\teval-rmse:1.67561\n",
      "[2]\teval-rmse:1.55267\n",
      "[3]\teval-rmse:1.44034\n",
      "[4]\teval-rmse:1.33776\n",
      "[5]\teval-rmse:1.2442\n",
      "[6]\teval-rmse:1.15913\n",
      "[7]\teval-rmse:1.08177\n",
      "[8]\teval-rmse:1.01167\n",
      "[9]\teval-rmse:0.948214\n",
      "[10]\teval-rmse:0.89086\n",
      "[11]\teval-rmse:0.839272\n",
      "[12]\teval-rmse:0.792874\n",
      "[13]\teval-rmse:0.751282\n",
      "[14]\teval-rmse:0.714165\n",
      "[15]\teval-rmse:0.681208\n",
      "[16]\teval-rmse:0.651888\n",
      "[17]\teval-rmse:0.625956\n",
      "[18]\teval-rmse:0.603132\n",
      "[19]\teval-rmse:0.58307\n",
      "[20]\teval-rmse:0.565428\n",
      "[21]\teval-rmse:0.550046\n",
      "[22]\teval-rmse:0.536632\n",
      "[23]\teval-rmse:0.525042\n",
      "[24]\teval-rmse:0.514978\n",
      "[25]\teval-rmse:0.506236\n",
      "[26]\teval-rmse:0.498624\n",
      "[27]\teval-rmse:0.492033\n",
      "[28]\teval-rmse:0.486397\n",
      "[29]\teval-rmse:0.481466\n",
      "[30]\teval-rmse:0.47728\n",
      "[31]\teval-rmse:0.473747\n",
      "[32]\teval-rmse:0.47065\n",
      "[33]\teval-rmse:0.468013\n",
      "[34]\teval-rmse:0.465639\n",
      "[35]\teval-rmse:0.463748\n",
      "[36]\teval-rmse:0.462106\n",
      "[37]\teval-rmse:0.46066\n",
      "[38]\teval-rmse:0.459385\n",
      "[39]\teval-rmse:0.45831\n",
      "[40]\teval-rmse:0.457461\n",
      "[41]\teval-rmse:0.456655\n",
      "[42]\teval-rmse:0.456011\n",
      "[43]\teval-rmse:0.455372\n",
      "[44]\teval-rmse:0.454873\n",
      "[45]\teval-rmse:0.454411\n",
      "[46]\teval-rmse:0.453983\n",
      "[47]\teval-rmse:0.453663\n",
      "[48]\teval-rmse:0.453361\n",
      "[49]\teval-rmse:0.453089\n",
      "[50]\teval-rmse:0.452873\n",
      "[51]\teval-rmse:0.452651\n",
      "[52]\teval-rmse:0.452439\n",
      "[53]\teval-rmse:0.452322\n",
      "[54]\teval-rmse:0.452149\n",
      "[55]\teval-rmse:0.451989\n",
      "[56]\teval-rmse:0.451846\n",
      "[57]\teval-rmse:0.45173\n",
      "[58]\teval-rmse:0.451641\n",
      "[59]\teval-rmse:0.451537\n",
      "[60]\teval-rmse:0.451456\n",
      "[61]\teval-rmse:0.451356\n",
      "[62]\teval-rmse:0.451277\n",
      "[63]\teval-rmse:0.451197\n",
      "[64]\teval-rmse:0.451091\n",
      "[65]\teval-rmse:0.451043\n",
      "[66]\teval-rmse:0.450967\n",
      "[67]\teval-rmse:0.450911\n",
      "[68]\teval-rmse:0.450833\n",
      "[69]\teval-rmse:0.45078\n",
      "[70]\teval-rmse:0.450713\n",
      "[71]\teval-rmse:0.450669\n",
      "[72]\teval-rmse:0.450622\n",
      "[73]\teval-rmse:0.450575\n",
      "[74]\teval-rmse:0.45049\n",
      "[75]\teval-rmse:0.450457\n",
      "[76]\teval-rmse:0.450426\n",
      "[77]\teval-rmse:0.450404\n",
      "[78]\teval-rmse:0.450276\n",
      "[79]\teval-rmse:0.450215\n",
      "[80]\teval-rmse:0.450183\n",
      "[81]\teval-rmse:0.450173\n",
      "[82]\teval-rmse:0.450126\n",
      "[83]\teval-rmse:0.450118\n",
      "[84]\teval-rmse:0.450096\n",
      "[85]\teval-rmse:0.450039\n",
      "[86]\teval-rmse:0.450008\n",
      "[87]\teval-rmse:0.449928\n",
      "[88]\teval-rmse:0.449905\n",
      "[89]\teval-rmse:0.449879\n",
      "[90]\teval-rmse:0.449813\n",
      "[91]\teval-rmse:0.449795\n",
      "[92]\teval-rmse:0.449753\n",
      "[93]\teval-rmse:0.449673\n",
      "[94]\teval-rmse:0.449621\n",
      "[95]\teval-rmse:0.449586\n",
      "[96]\teval-rmse:0.449544\n",
      "[97]\teval-rmse:0.44951\n",
      "[98]\teval-rmse:0.449517\n",
      "[99]\teval-rmse:0.449497\n",
      "[100]\teval-rmse:0.449483\n",
      "[101]\teval-rmse:0.44944\n",
      "[102]\teval-rmse:0.449428\n",
      "[103]\teval-rmse:0.449432\n",
      "[104]\teval-rmse:0.449418\n",
      "[105]\teval-rmse:0.44938\n",
      "[106]\teval-rmse:0.449378\n",
      "[107]\teval-rmse:0.449364\n",
      "[108]\teval-rmse:0.449349\n",
      "[109]\teval-rmse:0.449337\n",
      "[110]\teval-rmse:0.449298\n",
      "[111]\teval-rmse:0.449282\n",
      "[112]\teval-rmse:0.449248\n",
      "[113]\teval-rmse:0.449227\n",
      "[114]\teval-rmse:0.449221\n",
      "[115]\teval-rmse:0.449219\n",
      "[116]\teval-rmse:0.44916\n",
      "[117]\teval-rmse:0.449161\n",
      "[118]\teval-rmse:0.449152\n",
      "[119]\teval-rmse:0.449141\n",
      "[120]\teval-rmse:0.449131\n",
      "[121]\teval-rmse:0.449133\n",
      "[122]\teval-rmse:0.449073\n",
      "[123]\teval-rmse:0.449004\n",
      "[124]\teval-rmse:0.449015\n",
      "[125]\teval-rmse:0.448993\n",
      "[126]\teval-rmse:0.448999\n",
      "[127]\teval-rmse:0.448995\n",
      "[128]\teval-rmse:0.448978\n",
      "[129]\teval-rmse:0.448954\n",
      "[130]\teval-rmse:0.448932\n",
      "[131]\teval-rmse:0.448887\n",
      "[132]\teval-rmse:0.448887\n",
      "[133]\teval-rmse:0.448826\n",
      "[134]\teval-rmse:0.44884\n",
      "[135]\teval-rmse:0.448813\n",
      "[136]\teval-rmse:0.448807\n",
      "[137]\teval-rmse:0.448804\n",
      "[138]\teval-rmse:0.448794\n",
      "[139]\teval-rmse:0.448777\n",
      "[140]\teval-rmse:0.44876\n",
      "[141]\teval-rmse:0.448721\n",
      "[142]\teval-rmse:0.448703\n",
      "[143]\teval-rmse:0.448684\n",
      "[144]\teval-rmse:0.448684\n",
      "[145]\teval-rmse:0.448676\n",
      "[146]\teval-rmse:0.448662\n",
      "[147]\teval-rmse:0.448655\n",
      "[148]\teval-rmse:0.448653\n",
      "[149]\teval-rmse:0.448639\n",
      "[150]\teval-rmse:0.448594\n",
      "[151]\teval-rmse:0.448562\n",
      "[152]\teval-rmse:0.448565\n",
      "[153]\teval-rmse:0.44854\n",
      "[154]\teval-rmse:0.448536\n",
      "[155]\teval-rmse:0.448538\n",
      "[156]\teval-rmse:0.448539\n",
      "[157]\teval-rmse:0.448532\n",
      "[158]\teval-rmse:0.448542\n",
      "[159]\teval-rmse:0.448511\n",
      "[160]\teval-rmse:0.448531\n",
      "[161]\teval-rmse:0.448522\n",
      "[162]\teval-rmse:0.448506\n",
      "[163]\teval-rmse:0.448507\n",
      "[164]\teval-rmse:0.448498\n",
      "[165]\teval-rmse:0.448501\n",
      "[166]\teval-rmse:0.448507\n",
      "[167]\teval-rmse:0.448515\n",
      "[168]\teval-rmse:0.448504\n",
      "[169]\teval-rmse:0.448461\n",
      "[170]\teval-rmse:0.448431\n",
      "[171]\teval-rmse:0.44843\n",
      "[172]\teval-rmse:0.448385\n",
      "[173]\teval-rmse:0.4484\n",
      "[174]\teval-rmse:0.448367\n",
      "[175]\teval-rmse:0.448351\n",
      "[176]\teval-rmse:0.448332\n",
      "[177]\teval-rmse:0.448314\n",
      "[178]\teval-rmse:0.448276\n",
      "[179]\teval-rmse:0.448272\n",
      "[180]\teval-rmse:0.44826\n",
      "[181]\teval-rmse:0.448279\n",
      "[182]\teval-rmse:0.448277\n",
      "[183]\teval-rmse:0.448272\n",
      "[184]\teval-rmse:0.448299\n",
      "[185]\teval-rmse:0.448314\n",
      "[186]\teval-rmse:0.448311\n",
      "[187]\teval-rmse:0.448292\n",
      "[188]\teval-rmse:0.448295\n",
      "[189]\teval-rmse:0.448293\n",
      "[190]\teval-rmse:0.448271\n",
      "[191]\teval-rmse:0.448246\n",
      "[192]\teval-rmse:0.448235\n",
      "[193]\teval-rmse:0.448249\n",
      "[194]\teval-rmse:0.448258\n",
      "[195]\teval-rmse:0.448259\n",
      "[196]\teval-rmse:0.448234\n",
      "[197]\teval-rmse:0.448246\n",
      "[198]\teval-rmse:0.448225\n",
      "[199]\teval-rmse:0.44821\n",
      "[200]\teval-rmse:0.448183\n",
      "[201]\teval-rmse:0.448143\n",
      "[202]\teval-rmse:0.448134\n",
      "[203]\teval-rmse:0.448138\n",
      "[204]\teval-rmse:0.448121\n",
      "[205]\teval-rmse:0.448134\n",
      "[206]\teval-rmse:0.44813\n",
      "[207]\teval-rmse:0.448096\n",
      "[208]\teval-rmse:0.448111\n",
      "[209]\teval-rmse:0.448084\n",
      "[210]\teval-rmse:0.448083\n",
      "[211]\teval-rmse:0.448062\n",
      "[212]\teval-rmse:0.448044\n",
      "[213]\teval-rmse:0.448048\n",
      "[214]\teval-rmse:0.448049\n",
      "[215]\teval-rmse:0.448053\n",
      "[216]\teval-rmse:0.448039\n",
      "[217]\teval-rmse:0.448003\n",
      "[218]\teval-rmse:0.447985\n",
      "[219]\teval-rmse:0.447986\n",
      "[220]\teval-rmse:0.447973\n",
      "[221]\teval-rmse:0.447978\n",
      "[222]\teval-rmse:0.447986\n",
      "[223]\teval-rmse:0.447963\n",
      "[224]\teval-rmse:0.447936\n",
      "[225]\teval-rmse:0.447958\n",
      "[226]\teval-rmse:0.447954\n",
      "[227]\teval-rmse:0.447941\n",
      "[228]\teval-rmse:0.447911\n",
      "[229]\teval-rmse:0.447906\n",
      "[230]\teval-rmse:0.447901\n",
      "[231]\teval-rmse:0.447912\n",
      "[232]\teval-rmse:0.447904\n",
      "[233]\teval-rmse:0.447895\n",
      "[234]\teval-rmse:0.447885\n",
      "[235]\teval-rmse:0.447886\n",
      "[236]\teval-rmse:0.447876\n",
      "[237]\teval-rmse:0.447885\n",
      "[238]\teval-rmse:0.447835\n",
      "[239]\teval-rmse:0.447776\n",
      "[240]\teval-rmse:0.447775\n",
      "[241]\teval-rmse:0.447794\n",
      "[242]\teval-rmse:0.4478\n",
      "[243]\teval-rmse:0.447794\n",
      "[244]\teval-rmse:0.447818\n",
      "[245]\teval-rmse:0.447802\n",
      "[246]\teval-rmse:0.447809\n",
      "[247]\teval-rmse:0.447779\n",
      "[248]\teval-rmse:0.44778\n",
      "[249]\teval-rmse:0.44777\n",
      "[250]\teval-rmse:0.447775\n",
      "[251]\teval-rmse:0.447766\n",
      "[252]\teval-rmse:0.447746\n",
      "[253]\teval-rmse:0.447735\n",
      "[254]\teval-rmse:0.447713\n",
      "[255]\teval-rmse:0.447699\n",
      "[256]\teval-rmse:0.447693\n",
      "[257]\teval-rmse:0.447657\n",
      "[258]\teval-rmse:0.447662\n",
      "[259]\teval-rmse:0.447663\n",
      "[260]\teval-rmse:0.447612\n",
      "[261]\teval-rmse:0.447597\n",
      "[262]\teval-rmse:0.447571\n",
      "[263]\teval-rmse:0.447554\n",
      "[264]\teval-rmse:0.447546\n",
      "[265]\teval-rmse:0.447543\n",
      "[266]\teval-rmse:0.447519\n",
      "[267]\teval-rmse:0.447539\n",
      "[268]\teval-rmse:0.447524\n",
      "[269]\teval-rmse:0.447503\n",
      "[270]\teval-rmse:0.447504\n",
      "[271]\teval-rmse:0.447506\n",
      "[272]\teval-rmse:0.447516\n",
      "[273]\teval-rmse:0.447465\n",
      "[274]\teval-rmse:0.447468\n",
      "[275]\teval-rmse:0.447475\n",
      "[276]\teval-rmse:0.447464\n",
      "[277]\teval-rmse:0.447438\n",
      "[278]\teval-rmse:0.447443\n",
      "[279]\teval-rmse:0.447412\n",
      "[280]\teval-rmse:0.447408\n",
      "[281]\teval-rmse:0.447412\n",
      "[282]\teval-rmse:0.447393\n",
      "[283]\teval-rmse:0.447386\n",
      "[284]\teval-rmse:0.447356\n",
      "[285]\teval-rmse:0.447355\n",
      "[286]\teval-rmse:0.447347\n",
      "[287]\teval-rmse:0.447335\n",
      "[288]\teval-rmse:0.447335\n",
      "[289]\teval-rmse:0.447336\n",
      "[290]\teval-rmse:0.447334\n",
      "[291]\teval-rmse:0.447338\n",
      "[292]\teval-rmse:0.447342\n",
      "[293]\teval-rmse:0.447332\n",
      "[294]\teval-rmse:0.447334\n",
      "[295]\teval-rmse:0.44733\n",
      "[296]\teval-rmse:0.447309\n",
      "[297]\teval-rmse:0.447317\n",
      "[298]\teval-rmse:0.447272\n",
      "[299]\teval-rmse:0.447253\n",
      "[300]\teval-rmse:0.447224\n",
      "[301]\teval-rmse:0.447193\n",
      "[302]\teval-rmse:0.447188\n",
      "[303]\teval-rmse:0.447186\n",
      "[304]\teval-rmse:0.447188\n",
      "[305]\teval-rmse:0.447191\n",
      "[306]\teval-rmse:0.447161\n",
      "[307]\teval-rmse:0.447161\n",
      "[308]\teval-rmse:0.447148\n",
      "[309]\teval-rmse:0.447146\n",
      "[310]\teval-rmse:0.447152\n",
      "[311]\teval-rmse:0.447145\n",
      "[312]\teval-rmse:0.44715\n",
      "[313]\teval-rmse:0.447149\n",
      "[314]\teval-rmse:0.447141\n",
      "[315]\teval-rmse:0.447136\n",
      "[316]\teval-rmse:0.447131\n",
      "[317]\teval-rmse:0.447133\n",
      "[318]\teval-rmse:0.447127\n",
      "[319]\teval-rmse:0.447138\n",
      "[320]\teval-rmse:0.447144\n",
      "[321]\teval-rmse:0.447127\n",
      "[322]\teval-rmse:0.4471\n",
      "[323]\teval-rmse:0.447099\n",
      "[324]\teval-rmse:0.447078\n",
      "[325]\teval-rmse:0.447092\n",
      "[326]\teval-rmse:0.447094\n",
      "[327]\teval-rmse:0.447095\n",
      "[328]\teval-rmse:0.447108\n",
      "[329]\teval-rmse:0.4471\n",
      "[330]\teval-rmse:0.447063\n",
      "[331]\teval-rmse:0.44706\n"
     ]
    },
    {
     "name": "stdout",
     "output_type": "stream",
     "text": [
      "[332]\teval-rmse:0.44708\n",
      "[333]\teval-rmse:0.44709\n",
      "[334]\teval-rmse:0.447087\n",
      "[335]\teval-rmse:0.447084\n",
      "[336]\teval-rmse:0.447089\n",
      "[337]\teval-rmse:0.447068\n",
      "[338]\teval-rmse:0.447074\n",
      "[339]\teval-rmse:0.447084\n",
      "[340]\teval-rmse:0.447074\n",
      "[341]\teval-rmse:0.447084\n",
      "[342]\teval-rmse:0.447086\n",
      "[343]\teval-rmse:0.447074\n",
      "[344]\teval-rmse:0.447066\n",
      "[345]\teval-rmse:0.44707\n",
      "[346]\teval-rmse:0.447072\n",
      "[347]\teval-rmse:0.447061\n",
      "[348]\teval-rmse:0.44704\n",
      "[349]\teval-rmse:0.447062\n",
      "[350]\teval-rmse:0.447057\n",
      "[351]\teval-rmse:0.447052\n",
      "[352]\teval-rmse:0.447019\n",
      "[353]\teval-rmse:0.447005\n",
      "[354]\teval-rmse:0.447023\n",
      "[355]\teval-rmse:0.447025\n",
      "[356]\teval-rmse:0.447011\n",
      "[357]\teval-rmse:0.446974\n",
      "[358]\teval-rmse:0.446932\n",
      "[359]\teval-rmse:0.446929\n",
      "[360]\teval-rmse:0.446924\n",
      "[361]\teval-rmse:0.446939\n",
      "[362]\teval-rmse:0.446949\n",
      "[363]\teval-rmse:0.446938\n",
      "[364]\teval-rmse:0.446938\n",
      "[365]\teval-rmse:0.446937\n",
      "[366]\teval-rmse:0.446936\n",
      "[367]\teval-rmse:0.446948\n",
      "[368]\teval-rmse:0.446915\n",
      "[369]\teval-rmse:0.446917\n",
      "[370]\teval-rmse:0.446922\n",
      "[371]\teval-rmse:0.446917\n",
      "[372]\teval-rmse:0.446912\n",
      "[373]\teval-rmse:0.44692\n",
      "[374]\teval-rmse:0.446918\n",
      "[375]\teval-rmse:0.446923\n",
      "[376]\teval-rmse:0.446936\n",
      "[377]\teval-rmse:0.446932\n",
      "[378]\teval-rmse:0.446913\n",
      "[379]\teval-rmse:0.446886\n",
      "[380]\teval-rmse:0.446877\n",
      "[381]\teval-rmse:0.446852\n",
      "[382]\teval-rmse:0.446843\n",
      "[383]\teval-rmse:0.446855\n",
      "[384]\teval-rmse:0.446848\n",
      "[385]\teval-rmse:0.44686\n",
      "[386]\teval-rmse:0.446858\n",
      "[387]\teval-rmse:0.446872\n",
      "[388]\teval-rmse:0.446868\n",
      "[389]\teval-rmse:0.446865\n",
      "[390]\teval-rmse:0.446845\n",
      "[391]\teval-rmse:0.446838\n",
      "[392]\teval-rmse:0.446837\n",
      "[393]\teval-rmse:0.446838\n",
      "[394]\teval-rmse:0.446837\n",
      "[395]\teval-rmse:0.44685\n",
      "[396]\teval-rmse:0.446822\n",
      "[397]\teval-rmse:0.446812\n",
      "[398]\teval-rmse:0.446805\n",
      "[399]\teval-rmse:0.446765\n",
      "[400]\teval-rmse:0.446766\n",
      "[401]\teval-rmse:0.446771\n",
      "[402]\teval-rmse:0.446765\n",
      "[403]\teval-rmse:0.446766\n",
      "[404]\teval-rmse:0.446783\n",
      "[405]\teval-rmse:0.446756\n",
      "[406]\teval-rmse:0.446742\n",
      "[407]\teval-rmse:0.44673\n",
      "[408]\teval-rmse:0.446691\n",
      "[409]\teval-rmse:0.446691\n",
      "[410]\teval-rmse:0.446712\n",
      "[411]\teval-rmse:0.446702\n",
      "[412]\teval-rmse:0.44671\n",
      "[413]\teval-rmse:0.446713\n",
      "[414]\teval-rmse:0.44669\n",
      "[415]\teval-rmse:0.446695\n",
      "[416]\teval-rmse:0.44668\n",
      "[417]\teval-rmse:0.446679\n",
      "[418]\teval-rmse:0.446676\n",
      "[419]\teval-rmse:0.446677\n",
      "[420]\teval-rmse:0.446677\n",
      "[421]\teval-rmse:0.446679\n",
      "[422]\teval-rmse:0.446679\n",
      "[423]\teval-rmse:0.446674\n",
      "[424]\teval-rmse:0.446676\n",
      "[425]\teval-rmse:0.44668\n",
      "[426]\teval-rmse:0.446688\n",
      "[427]\teval-rmse:0.446699\n",
      "[428]\teval-rmse:0.446675\n",
      "[429]\teval-rmse:0.44667\n",
      "[430]\teval-rmse:0.44666\n",
      "[431]\teval-rmse:0.446629\n",
      "[432]\teval-rmse:0.446631\n",
      "[433]\teval-rmse:0.446611\n",
      "[434]\teval-rmse:0.446603\n",
      "[435]\teval-rmse:0.44657\n",
      "[436]\teval-rmse:0.446566\n",
      "[437]\teval-rmse:0.44654\n",
      "[438]\teval-rmse:0.446541\n",
      "[439]\teval-rmse:0.44653\n",
      "[440]\teval-rmse:0.446492\n",
      "[441]\teval-rmse:0.446453\n",
      "[442]\teval-rmse:0.44644\n",
      "[443]\teval-rmse:0.446399\n",
      "[444]\teval-rmse:0.446396\n",
      "[445]\teval-rmse:0.446411\n",
      "[446]\teval-rmse:0.446403\n",
      "[447]\teval-rmse:0.446389\n",
      "[448]\teval-rmse:0.446385\n",
      "[449]\teval-rmse:0.446391\n",
      "[450]\teval-rmse:0.446373\n",
      "[451]\teval-rmse:0.446374\n",
      "[452]\teval-rmse:0.446356\n",
      "[453]\teval-rmse:0.446357\n",
      "[454]\teval-rmse:0.446359\n",
      "[455]\teval-rmse:0.446359\n",
      "[456]\teval-rmse:0.446354\n",
      "[457]\teval-rmse:0.446355\n",
      "[458]\teval-rmse:0.446355\n",
      "[459]\teval-rmse:0.44634\n",
      "[460]\teval-rmse:0.446343\n",
      "[461]\teval-rmse:0.446343\n",
      "[462]\teval-rmse:0.446336\n",
      "[463]\teval-rmse:0.446353\n",
      "[464]\teval-rmse:0.446334\n",
      "[465]\teval-rmse:0.446318\n",
      "[466]\teval-rmse:0.446306\n",
      "[467]\teval-rmse:0.446306\n",
      "[468]\teval-rmse:0.446308\n",
      "[469]\teval-rmse:0.44631\n",
      "[470]\teval-rmse:0.446314\n",
      "[471]\teval-rmse:0.446319\n",
      "[472]\teval-rmse:0.446305\n",
      "[473]\teval-rmse:0.446304\n",
      "[474]\teval-rmse:0.446305\n",
      "[475]\teval-rmse:0.446309\n",
      "[476]\teval-rmse:0.446297\n",
      "[477]\teval-rmse:0.446294\n",
      "[478]\teval-rmse:0.446289\n",
      "[479]\teval-rmse:0.446311\n",
      "[480]\teval-rmse:0.446291\n",
      "[481]\teval-rmse:0.446287\n",
      "[482]\teval-rmse:0.446282\n",
      "[483]\teval-rmse:0.446276\n",
      "[484]\teval-rmse:0.446278\n",
      "[485]\teval-rmse:0.446277\n",
      "[486]\teval-rmse:0.446252\n",
      "[487]\teval-rmse:0.44625\n",
      "[488]\teval-rmse:0.446252\n",
      "[489]\teval-rmse:0.446242\n",
      "[490]\teval-rmse:0.446253\n",
      "[491]\teval-rmse:0.446232\n",
      "[492]\teval-rmse:0.446231\n",
      "[493]\teval-rmse:0.446237\n",
      "[494]\teval-rmse:0.446238\n",
      "[495]\teval-rmse:0.446257\n",
      "[496]\teval-rmse:0.44625\n",
      "[497]\teval-rmse:0.446261\n",
      "[498]\teval-rmse:0.446274\n",
      "[499]\teval-rmse:0.446287\n",
      "model training time: 0.547 minutes\n",
      "\n",
      "predicting time: 0.013 minutes\n",
      "\n"
     ]
    }
   ],
   "source": [
    "from sklearn.model_selection import train_test_split\n",
    "X_train_new, X_dev_new, y_train_new, y_dev_new = train_test_split(X_train, y_train, test_size=0.2, random_state=2017)\n",
    "\n",
    "t_1 = time.time()\n",
    "train = xgb.DMatrix(X_train_new, y_train_new)\n",
    "val = xgb.DMatrix(X_dev_new, y_dev_new)\n",
    "watchlist = [(val, 'eval')]\n",
    "params = {\n",
    "    'booster': 'gbtree',\n",
    "    'eta': 0.08,\n",
    "    'colsample_bytree': 0.85,\n",
    "    'max_depth': 4,\n",
    "    'seed': 2017,\n",
    "    'n_estimators': 150,\n",
    "    'silent': 0,\n",
    "    'objective': 'reg:linear',\n",
    "    'eval_metric': 'rmse',\n",
    "    'verbose':1\n",
    "}\n",
    "clf = xgb.train(params, train, 500, watchlist, early_stopping_rounds=30,)\n",
    "print('model training time:',round((time.time()-t_1)/60,3) ,'minutes\\n')\n",
    "\n",
    "t_1 = time.time()\n",
    "test = xgb.DMatrix(X_test)\n",
    "y_pred = clf.predict(test)\n",
    "print('predicting time:',round((time.time()-t_1)/60,3) ,'minutes\\n')\n",
    "# public score:  0.457315110884   private score:  0.455979172162   average score:  0.456380697182"
   ]
  },
  {
   "cell_type": "code",
   "execution_count": 381,
   "metadata": {},
   "outputs": [
    {
     "name": "stdout",
     "output_type": "stream",
     "text": [
      "predicting time: 0.013 minutes\n",
      "\n",
      "predicting time: 0.566 minutes\n",
      "\n"
     ]
    }
   ],
   "source": [
    "t = time.time()\n",
    "y_pred_xgb = clf_xgb.predict(X_test)\n",
    "y_pred_pair_wise_xgb = clf_xgb.predict(X_test_pair_wise)\n",
    "print('predicting time:',round((time.time()-t)/60,3) ,'minutes\\n')\n",
    "# public score:  0.457000348812   private score:  0.455574277633   average score:  0.456002922519\n",
    "\n",
    "t = time.time()\n",
    "y_pred_xgbbagging = clf_xgbbagging.predict(X_test)\n",
    "y_pred_pair_wise_xgbbagging = clf_xgbbagging.predict(X_test_pair_wise)\n",
    "print('predicting time:',round((time.time()-t)/60,3) ,'minutes\\n')\n",
    "# public score:  0.45676901447   private score:  0.455857536779   average score:  0.456131398342"
   ]
  },
  {
   "cell_type": "markdown",
   "metadata": {},
   "source": [
    "### sklearn.svm"
   ]
  },
  {
   "cell_type": "code",
   "execution_count": 382,
   "metadata": {},
   "outputs": [
    {
     "name": "stdout",
     "output_type": "stream",
     "text": [
      "model training time: 0.599 minutes\n",
      "\n",
      "predicting time: 0.001 minutes\n",
      "\n"
     ]
    }
   ],
   "source": [
    "clf_lsvr = svm.LinearSVR(C = 0.5)\n",
    "t = time.time()\n",
    "clf_lsvr.fit(X_train, y_train)\n",
    "print('model training time:',round((time.time()-t)/60,3) ,'minutes\\n')\n",
    "t = time.time()\n",
    "y_pred_lsvr = clf_lsvr.predict(X_test)\n",
    "y_pred_pair_wise_lsvr = clf_lsvr.predict(X_test_pair_wise)\n",
    "print('predicting time:',round((time.time()-t)/60,3) ,'minutes\\n')\n",
    "# public score:  0.880135243323   private score:  0.879463548456   average score:  0.87966527802"
   ]
  },
  {
   "cell_type": "code",
   "execution_count": 383,
   "metadata": {
    "scrolled": true
   },
   "outputs": [
    {
     "name": "stdout",
     "output_type": "stream",
     "text": [
      "predicting time: 34.237 minutes\n",
      "\n"
     ]
    }
   ],
   "source": [
    "t = time.time()\n",
    "y_pred_svr = clf_svr.predict(X_test)\n",
    "y_pred_pair_wise_svr = clf_svr.predict(X_test_pair_wise)\n",
    "print('predicting time:',round((time.time()-t)/60,3) ,'minutes\\n')\n",
    "# public score:  0.540211492078   private score:  0.539543775977   average score:  0.539744343815"
   ]
  },
  {
   "cell_type": "code",
   "execution_count": 456,
   "metadata": {
    "collapsed": true
   },
   "outputs": [],
   "source": [
    "pred_test=(y_pred_GBbagging2+y_pred_ET+y_pred_xgb)/3\n",
    "# public score:  0.455038807126   private score:  0.454203897013   average score:  0.454454739037\n",
    "# public score:  0.455123742485   private score:  0.45415826103   average score:  0.454448361307\n",
    "# public score:  0.454984401645   private score:  0.454098886705   average score:  0.454364942936\n",
    "# public score:  0.454978499222   private score:  0.454089902646   average score:  0.454356885403"
   ]
  },
  {
   "cell_type": "markdown",
   "metadata": {
    "collapsed": true
   },
   "source": [
    "## <font color='green'>Setup 3</font>: Evaluation"
   ]
  },
  {
   "cell_type": "code",
   "execution_count": 465,
   "metadata": {
    "collapsed": true
   },
   "outputs": [],
   "source": [
    "p_pred = pd.DataFrame({\"id\": nn_pred.id, \"pred_relevance\": pred_test})\n",
    "\n",
    "total = pd.merge(p_pred, df_test, on='id')\n",
    "\n",
    "public_score = total[total.Usage == 'Public']\n",
    "private_score = total[total.Usage == 'Private']"
   ]
  },
  {
   "cell_type": "markdown",
   "metadata": {},
   "source": [
    "### RMSE"
   ]
  },
  {
   "cell_type": "code",
   "execution_count": 466,
   "metadata": {
    "scrolled": true
   },
   "outputs": [
    {
     "name": "stdout",
     "output_type": "stream",
     "text": [
      "public score:  0.54115246183   private score:  0.541086472367   average score:  0.541106211185\n"
     ]
    }
   ],
   "source": [
    "def RMSE(ground_truth, predictions):\n",
    "    fmean_squared_error_ = mean_squared_error(ground_truth, predictions)**0.5\n",
    "    return fmean_squared_error_\n",
    "print('public score: ',RMSE(list(public_score.pred_relevance), list(public_score.relevance)),\\\n",
    "      '  private score: ',RMSE(list(private_score.pred_relevance), list(private_score.relevance)),\\\n",
    "      '  average score: ',RMSE(list(total.pred_relevance),list(total.relevance)))"
   ]
  },
  {
   "cell_type": "code",
   "execution_count": 467,
   "metadata": {
    "collapsed": true
   },
   "outputs": [],
   "source": [
    "k=2\n",
    "bad_total = total[total.relevance <k]\n",
    "bad_public_score = public_score[public_score.relevance <k]\n",
    "bad_private_score = private_score[private_score.relevance <k]\n",
    "good_total = total[total.relevance >=k]\n",
    "good_public_score = public_score[public_score.relevance >=k]\n",
    "good_private_score = private_score[private_score.relevance >=k]"
   ]
  },
  {
   "cell_type": "code",
   "execution_count": 468,
   "metadata": {},
   "outputs": [
    {
     "name": "stdout",
     "output_type": "stream",
     "text": [
      "< 2  public score:  0.833083021596  < 2  private score:  0.830851321374  < 2  average score:  0.831527761715\n",
      ">= 2 public score:  0.453768450562   >= 2 private score:  0.456564318096   >= 2  average score:  0.455732063848\n"
     ]
    }
   ],
   "source": [
    "print('<',k,' public score: ',RMSE(list(bad_public_score.pred_relevance), list(bad_public_score.relevance)),\\\n",
    "      ' <',k,' private score: ',RMSE(list(bad_private_score.pred_relevance), list(bad_private_score.relevance)),\\\n",
    "      ' <',k,' average score: ',RMSE(list(bad_total.pred_relevance),list(bad_total.relevance)))\n",
    "print('>=',k, 'public score: ',RMSE(list(good_public_score.pred_relevance), list(good_public_score.relevance)),\\\n",
    "      '  >=',k, 'private score: ',RMSE(list(good_private_score.pred_relevance), list(good_private_score.relevance)),\\\n",
    "      '  >=',k,' average score: ',RMSE(list(good_total.pred_relevance),list(good_total.relevance)))"
   ]
  },
  {
   "cell_type": "raw",
   "metadata": {},
   "source": [
    "import seaborn as sn\n",
    "plt.hist(bad_total['pred_relevance'], bins = 10, label = 'predict')\n",
    "plt.hist(total['relevance'], bins = 10, label = 'true', alpha = 0.8)\n",
    "\n",
    "plt.legend(loc = 2)\n",
    "plt.show()"
   ]
  },
  {
   "cell_type": "markdown",
   "metadata": {},
   "source": [
    "### MAP@K"
   ]
  },
  {
   "cell_type": "code",
   "execution_count": 469,
   "metadata": {
    "collapsed": true
   },
   "outputs": [],
   "source": [
    "total_test = total.sort_values(['search_term_id','relevance'], ascending=[True, False])\n",
    "total_pred = total.sort_values(['search_term_id','pred_relevance'], ascending=[True, False])"
   ]
  },
  {
   "cell_type": "code",
   "execution_count": 470,
   "metadata": {},
   "outputs": [
    {
     "name": "stdout",
     "output_type": "stream",
     "text": [
      "MAP@3: 0.7063   MAP@10: 0.9706\n"
     ]
    }
   ],
   "source": [
    "import ml_metrics as metrics #pip install ml_metrics\n",
    "\n",
    "k1,k2 = 3,10\n",
    "\n",
    "Y_p1 = total_test.groupby(by='search_term_id', sort=False).id.apply( lambda x: x.values[:k1].tolist()).values.tolist()\n",
    "Y_p2 = total_test.groupby(by='search_term_id', sort=False).id.apply( lambda x: x.values[:k2].tolist()).values.tolist()\n",
    "P_p = total_pred.groupby(by='search_term_id', sort=False).id.apply( lambda x: x.values.tolist()).values.tolist()\n",
    "\n",
    "score1 = metrics.mapk(Y_p1, P_p,k1)\n",
    "score2 = metrics.mapk(Y_p2, P_p,k2)\n",
    "\n",
    "print(\"MAP@3: %.4f\" % score1,\"  MAP@10: %.4f\" % score2)"
   ]
  },
  {
   "cell_type": "markdown",
   "metadata": {},
   "source": [
    "### NDCG"
   ]
  },
  {
   "cell_type": "code",
   "execution_count": 471,
   "metadata": {
    "collapsed": true
   },
   "outputs": [],
   "source": [
    "df_test_pair_wise = df_test_pair_wise.sort_values('search_term_id')\n",
    "test_group = [value for (key, value) in sorted(Counter(df_test_pair_wise['search_term_id']).items())]"
   ]
  },
  {
   "cell_type": "code",
   "execution_count": 472,
   "metadata": {},
   "outputs": [
    {
     "data": {
      "text/plain": [
       "(0.9519695523214009, 0.90002571539926024)"
      ]
     },
     "execution_count": 472,
     "metadata": {},
     "output_type": "execute_result"
    }
   ],
   "source": [
    "from evaluation import *\n",
    "\n",
    "eval_lst=eval_construct(y_pred_pair_wise_ABbagging,y_test_pair_wise,test_group)\n",
    "eval_lst_random=eval_construct_random(y_test_pair_wise,test_group)\n",
    "mean_NDCG(eval_lst),mean_NDCG(eval_lst_random)"
   ]
  },
  {
   "cell_type": "code",
   "execution_count": null,
   "metadata": {
    "collapsed": true
   },
   "outputs": [],
   "source": []
  },
  {
   "cell_type": "markdown",
   "metadata": {
    "collapsed": true
   },
   "source": [
    "# Stacking(not used)"
   ]
  },
  {
   "cell_type": "raw",
   "metadata": {},
   "source": [
    "# 差\n",
    "# ## Concatenating Level 1 results\n",
    "test_features_L2 = np.column_stack((y_pred_rfbagging,y_pred_GB,y_pred_xgbbagging))#add as much as u want and wish u good luck\n",
    "train_features_L2 = np.column_stack((y_pred_rfbagging_tr,y_pred_GB_tr,y_pred_xgbbagging_tr))\n",
    "\n",
    "# ## Fitting Level 2 models\n",
    "\n",
    "regr = xgb.XGBRegressor(learning_rate=0.05, max_depth = 1, n_estimators = 88, seed=2017)#y_pred_rfbagging,y_pred_xgb\n",
    "# #public score:  0.458162084371   private score:  0.457134920209\n",
    "# # regr =  ExtraTreesRegressor(n_estimators=100, max_depth=3, random_state=2017)\n",
    "# #public score:  0.457003894096   private score:  0.456128472829\n",
    "# # regr2 = BaggingRegressor(regr, n_estimators=100, max_samples=0.1, random_state=25)\n",
    "# #0.456798873132   private score:  0.455943332547\n",
    "\n",
    "# regr = xgb.XGBRegressor(learning_rate=0.055, max_depth = 1, n_estimators = 90, seed=2017)\n",
    "# #public score:  0.45765288431   private score:  0.456620191345\n",
    "# # regr2 = BaggingRegressor(regr, n_estimators=100, max_samples=0.1, random_state=25)\n",
    "# #public score:  0.457531833604   private score:  0.456438058502\n",
    "\n",
    "regr.fit(train_features_L2, y_train)\n",
    "test_p = regr.predict(test_features_L2)"
   ]
  },
  {
   "cell_type": "raw",
   "metadata": {},
   "source": [
    "#差\n",
    "from sklearn.feature_selection import SelectFromModel \n",
    "from sklearn.pipeline import Pipeline\n",
    "clf = Pipeline([('feature_selection', SelectFromModel(clf_lr)),('classification', clf_xgb)])\n",
    "t = time.time()\n",
    "clf.fit(X_train,y_train)\n",
    "print('model training time:',round((time.time()-t)/60,3) ,'minutes\\n')"
   ]
  },
  {
   "cell_type": "raw",
   "metadata": {},
   "source": [
    "##差\n",
    "clf_ET.feature_importances_  \n",
    "model = SelectFromModel(clf_ET, prefit=True)\n",
    "X_new = model.transform(X_train)\n",
    "X_new_test = model.transform(X_test)\n",
    "clf_ET2 = ExtraTreesRegressor(n_estimators=150, max_depth=20, random_state=2017)\n",
    "t = time.time()\n",
    "clf_ET2.fit(X_new, y_train)\n",
    "print('model training time:',round((time.time()-t)/60,3) ,'minutes\\n')\n",
    "t = time.time()\n",
    "y_pred_ET2 = clf_ET2.predict(X_new_test)\n",
    "print('predicting time:',round((time.time()-t)/60,3) ,'minutes\\n')\n",
    "# public score:  0.467476453928   private score:  0.467969114722   average score:  0.467821248334"
   ]
  }
 ],
 "metadata": {
  "kernelspec": {
   "display_name": "Python 3",
   "language": "python",
   "name": "python3"
  },
  "language_info": {
   "codemirror_mode": {
    "name": "ipython",
    "version": 3
   },
   "file_extension": ".py",
   "mimetype": "text/x-python",
   "name": "python",
   "nbconvert_exporter": "python",
   "pygments_lexer": "ipython3",
   "version": "3.6.1"
  }
 },
 "nbformat": 4,
 "nbformat_minor": 2
}
